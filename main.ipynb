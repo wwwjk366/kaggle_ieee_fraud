{
 "cells": [
  {
   "cell_type": "markdown",
   "metadata": {},
   "source": [
    "## EDA"
   ]
  },
  {
   "cell_type": "code",
   "execution_count": 1,
   "metadata": {},
   "outputs": [],
   "source": [
    "import os\n",
    "import time\n",
    "import datetime\n",
    "import json\n",
    "import gc\n",
    "from numba import jit\n",
    "\n",
    "import numpy as np\n",
    "import pandas as pd\n",
    "from sklearn import preprocessing\n",
    "from sklearn.model_selection import train_test_split, StratifiedKFold,KFold\n",
    "import xgboost as xgb\n",
    "import matplotlib.pyplot as plt\n",
    "import seaborn as sns\n",
    "from bayes_opt import BayesianOptimization\n",
    "import lightgbm as lgb\n",
    "import xgboost as xgb\n",
    "from catboost import CatBoostRegressor, CatBoostClassifier\n",
    "from sklearn import metrics\n",
    "\n",
    "from itertools import product\n",
    "\n",
    "from IPython.display import HTML"
   ]
  },
  {
   "cell_type": "code",
   "execution_count": 2,
   "metadata": {},
   "outputs": [],
   "source": [
    "folder_path = 'data/'\n",
    "train_identity = pd.read_csv(f'{folder_path}train_identity.csv')\n",
    "train_transaction = pd.read_csv(f'{folder_path}train_transaction.csv')\n",
    "test_identity = pd.read_csv(f'{folder_path}test_identity.csv')\n",
    "test_transaction = pd.read_csv(f'{folder_path}test_transaction.csv')\n",
    "sub = pd.read_csv(f'{folder_path}sample_submission.csv')\n",
    "# let's combine the data and work with the whole dataset\n",
    "train = pd.merge(train_transaction, train_identity, on='TransactionID', how='left')\n",
    "test = pd.merge(test_transaction, test_identity, on='TransactionID', how='left')"
   ]
  },
  {
   "cell_type": "code",
   "execution_count": 22,
   "metadata": {},
   "outputs": [
    {
     "data": {
      "text/html": [
       "<div>\n",
       "<style scoped>\n",
       "    .dataframe tbody tr th:only-of-type {\n",
       "        vertical-align: middle;\n",
       "    }\n",
       "\n",
       "    .dataframe tbody tr th {\n",
       "        vertical-align: top;\n",
       "    }\n",
       "\n",
       "    .dataframe thead th {\n",
       "        text-align: right;\n",
       "    }\n",
       "</style>\n",
       "<table border=\"1\" class=\"dataframe\">\n",
       "  <thead>\n",
       "    <tr style=\"text-align: right;\">\n",
       "      <th></th>\n",
       "      <th>TransactionID</th>\n",
       "      <th>isFraud</th>\n",
       "      <th>TransactionDT</th>\n",
       "      <th>TransactionAmt</th>\n",
       "      <th>ProductCD</th>\n",
       "      <th>card1</th>\n",
       "      <th>card2</th>\n",
       "      <th>card3</th>\n",
       "      <th>card4</th>\n",
       "      <th>card5</th>\n",
       "      <th>...</th>\n",
       "      <th>V330</th>\n",
       "      <th>V331</th>\n",
       "      <th>V332</th>\n",
       "      <th>V333</th>\n",
       "      <th>V334</th>\n",
       "      <th>V335</th>\n",
       "      <th>V336</th>\n",
       "      <th>V337</th>\n",
       "      <th>V338</th>\n",
       "      <th>V339</th>\n",
       "    </tr>\n",
       "  </thead>\n",
       "  <tbody>\n",
       "    <tr>\n",
       "      <th>203</th>\n",
       "      <td>2987203</td>\n",
       "      <td>1</td>\n",
       "      <td>89760</td>\n",
       "      <td>445.000</td>\n",
       "      <td>W</td>\n",
       "      <td>18268</td>\n",
       "      <td>583.0</td>\n",
       "      <td>150.0</td>\n",
       "      <td>visa</td>\n",
       "      <td>226.0</td>\n",
       "      <td>...</td>\n",
       "      <td>NaN</td>\n",
       "      <td>NaN</td>\n",
       "      <td>NaN</td>\n",
       "      <td>NaN</td>\n",
       "      <td>NaN</td>\n",
       "      <td>NaN</td>\n",
       "      <td>NaN</td>\n",
       "      <td>NaN</td>\n",
       "      <td>NaN</td>\n",
       "      <td>NaN</td>\n",
       "    </tr>\n",
       "    <tr>\n",
       "      <th>240</th>\n",
       "      <td>2987240</td>\n",
       "      <td>1</td>\n",
       "      <td>90193</td>\n",
       "      <td>37.098</td>\n",
       "      <td>C</td>\n",
       "      <td>13413</td>\n",
       "      <td>103.0</td>\n",
       "      <td>185.0</td>\n",
       "      <td>visa</td>\n",
       "      <td>137.0</td>\n",
       "      <td>...</td>\n",
       "      <td>NaN</td>\n",
       "      <td>NaN</td>\n",
       "      <td>NaN</td>\n",
       "      <td>NaN</td>\n",
       "      <td>NaN</td>\n",
       "      <td>NaN</td>\n",
       "      <td>NaN</td>\n",
       "      <td>NaN</td>\n",
       "      <td>NaN</td>\n",
       "      <td>NaN</td>\n",
       "    </tr>\n",
       "    <tr>\n",
       "      <th>243</th>\n",
       "      <td>2987243</td>\n",
       "      <td>1</td>\n",
       "      <td>90246</td>\n",
       "      <td>37.098</td>\n",
       "      <td>C</td>\n",
       "      <td>13413</td>\n",
       "      <td>103.0</td>\n",
       "      <td>185.0</td>\n",
       "      <td>visa</td>\n",
       "      <td>137.0</td>\n",
       "      <td>...</td>\n",
       "      <td>NaN</td>\n",
       "      <td>NaN</td>\n",
       "      <td>NaN</td>\n",
       "      <td>NaN</td>\n",
       "      <td>NaN</td>\n",
       "      <td>NaN</td>\n",
       "      <td>NaN</td>\n",
       "      <td>NaN</td>\n",
       "      <td>NaN</td>\n",
       "      <td>NaN</td>\n",
       "    </tr>\n",
       "    <tr>\n",
       "      <th>245</th>\n",
       "      <td>2987245</td>\n",
       "      <td>1</td>\n",
       "      <td>90295</td>\n",
       "      <td>37.098</td>\n",
       "      <td>C</td>\n",
       "      <td>13413</td>\n",
       "      <td>103.0</td>\n",
       "      <td>185.0</td>\n",
       "      <td>visa</td>\n",
       "      <td>137.0</td>\n",
       "      <td>...</td>\n",
       "      <td>NaN</td>\n",
       "      <td>NaN</td>\n",
       "      <td>NaN</td>\n",
       "      <td>NaN</td>\n",
       "      <td>NaN</td>\n",
       "      <td>NaN</td>\n",
       "      <td>NaN</td>\n",
       "      <td>NaN</td>\n",
       "      <td>NaN</td>\n",
       "      <td>NaN</td>\n",
       "    </tr>\n",
       "    <tr>\n",
       "      <th>288</th>\n",
       "      <td>2987288</td>\n",
       "      <td>1</td>\n",
       "      <td>90986</td>\n",
       "      <td>155.521</td>\n",
       "      <td>C</td>\n",
       "      <td>16578</td>\n",
       "      <td>545.0</td>\n",
       "      <td>185.0</td>\n",
       "      <td>visa</td>\n",
       "      <td>226.0</td>\n",
       "      <td>...</td>\n",
       "      <td>NaN</td>\n",
       "      <td>NaN</td>\n",
       "      <td>NaN</td>\n",
       "      <td>NaN</td>\n",
       "      <td>NaN</td>\n",
       "      <td>NaN</td>\n",
       "      <td>NaN</td>\n",
       "      <td>NaN</td>\n",
       "      <td>NaN</td>\n",
       "      <td>NaN</td>\n",
       "    </tr>\n",
       "  </tbody>\n",
       "</table>\n",
       "<p>5 rows × 394 columns</p>\n",
       "</div>"
      ],
      "text/plain": [
       "     TransactionID  isFraud  TransactionDT  TransactionAmt ProductCD  card1  \\\n",
       "203        2987203        1          89760         445.000         W  18268   \n",
       "240        2987240        1          90193          37.098         C  13413   \n",
       "243        2987243        1          90246          37.098         C  13413   \n",
       "245        2987245        1          90295          37.098         C  13413   \n",
       "288        2987288        1          90986         155.521         C  16578   \n",
       "\n",
       "     card2  card3 card4  card5  ... V330  V331  V332  V333  V334 V335 V336  \\\n",
       "203  583.0  150.0  visa  226.0  ...  NaN   NaN   NaN   NaN   NaN  NaN  NaN   \n",
       "240  103.0  185.0  visa  137.0  ...  NaN   NaN   NaN   NaN   NaN  NaN  NaN   \n",
       "243  103.0  185.0  visa  137.0  ...  NaN   NaN   NaN   NaN   NaN  NaN  NaN   \n",
       "245  103.0  185.0  visa  137.0  ...  NaN   NaN   NaN   NaN   NaN  NaN  NaN   \n",
       "288  545.0  185.0  visa  226.0  ...  NaN   NaN   NaN   NaN   NaN  NaN  NaN   \n",
       "\n",
       "     V337  V338  V339  \n",
       "203   NaN   NaN   NaN  \n",
       "240   NaN   NaN   NaN  \n",
       "243   NaN   NaN   NaN  \n",
       "245   NaN   NaN   NaN  \n",
       "288   NaN   NaN   NaN  \n",
       "\n",
       "[5 rows x 394 columns]"
      ]
     },
     "execution_count": 22,
     "metadata": {},
     "output_type": "execute_result"
    }
   ],
   "source": [
    "train_transaction[train_transaction.isFraud == 1].head()"
   ]
  },
  {
   "cell_type": "code",
   "execution_count": null,
   "metadata": {},
   "outputs": [],
   "source": [
    "for col, values in train_transaction[train_transaction.isFraud == 1].iteritems():\n",
    "    num_uniques = values.nunique()\n",
    "    print ('{name}: {num_unique}'.format(name=col, num_unique=num_uniques))\n",
    "    print (values.unique())\n",
    "    print ('\\n')"
   ]
  },
  {
   "cell_type": "code",
   "execution_count": null,
   "metadata": {},
   "outputs": [],
   "source": [
    "pd.options.display.max_rows = 400\n",
    "train_transaction[train_transaction.isFraud == 1].iloc[33]"
   ]
  },
  {
   "cell_type": "markdown",
   "metadata": {},
   "source": [
    "## Simple XGB"
   ]
  },
  {
   "cell_type": "code",
   "execution_count": 3,
   "metadata": {},
   "outputs": [
    {
     "data": {
      "text/html": [
       "<div>\n",
       "<style scoped>\n",
       "    .dataframe tbody tr th:only-of-type {\n",
       "        vertical-align: middle;\n",
       "    }\n",
       "\n",
       "    .dataframe tbody tr th {\n",
       "        vertical-align: top;\n",
       "    }\n",
       "\n",
       "    .dataframe thead th {\n",
       "        text-align: right;\n",
       "    }\n",
       "</style>\n",
       "<table border=\"1\" class=\"dataframe\">\n",
       "  <thead>\n",
       "    <tr style=\"text-align: right;\">\n",
       "      <th></th>\n",
       "      <th>TransactionID</th>\n",
       "      <th>id_01</th>\n",
       "      <th>id_02</th>\n",
       "      <th>id_03</th>\n",
       "      <th>id_04</th>\n",
       "      <th>id_05</th>\n",
       "      <th>id_06</th>\n",
       "      <th>id_07</th>\n",
       "      <th>id_08</th>\n",
       "      <th>id_09</th>\n",
       "      <th>...</th>\n",
       "      <th>id_31</th>\n",
       "      <th>id_32</th>\n",
       "      <th>id_33</th>\n",
       "      <th>id_34</th>\n",
       "      <th>id_35</th>\n",
       "      <th>id_36</th>\n",
       "      <th>id_37</th>\n",
       "      <th>id_38</th>\n",
       "      <th>DeviceType</th>\n",
       "      <th>DeviceInfo</th>\n",
       "    </tr>\n",
       "  </thead>\n",
       "  <tbody>\n",
       "    <tr>\n",
       "      <th>0</th>\n",
       "      <td>2987004</td>\n",
       "      <td>0.0</td>\n",
       "      <td>70787.0</td>\n",
       "      <td>NaN</td>\n",
       "      <td>NaN</td>\n",
       "      <td>NaN</td>\n",
       "      <td>NaN</td>\n",
       "      <td>NaN</td>\n",
       "      <td>NaN</td>\n",
       "      <td>NaN</td>\n",
       "      <td>...</td>\n",
       "      <td>samsung browser 6.2</td>\n",
       "      <td>32.0</td>\n",
       "      <td>2220x1080</td>\n",
       "      <td>match_status:2</td>\n",
       "      <td>T</td>\n",
       "      <td>F</td>\n",
       "      <td>T</td>\n",
       "      <td>T</td>\n",
       "      <td>mobile</td>\n",
       "      <td>SAMSUNG SM-G892A Build/NRD90M</td>\n",
       "    </tr>\n",
       "    <tr>\n",
       "      <th>1</th>\n",
       "      <td>2987008</td>\n",
       "      <td>-5.0</td>\n",
       "      <td>98945.0</td>\n",
       "      <td>NaN</td>\n",
       "      <td>NaN</td>\n",
       "      <td>0.0</td>\n",
       "      <td>-5.0</td>\n",
       "      <td>NaN</td>\n",
       "      <td>NaN</td>\n",
       "      <td>NaN</td>\n",
       "      <td>...</td>\n",
       "      <td>mobile safari 11.0</td>\n",
       "      <td>32.0</td>\n",
       "      <td>1334x750</td>\n",
       "      <td>match_status:1</td>\n",
       "      <td>T</td>\n",
       "      <td>F</td>\n",
       "      <td>F</td>\n",
       "      <td>T</td>\n",
       "      <td>mobile</td>\n",
       "      <td>iOS Device</td>\n",
       "    </tr>\n",
       "    <tr>\n",
       "      <th>2</th>\n",
       "      <td>2987010</td>\n",
       "      <td>-5.0</td>\n",
       "      <td>191631.0</td>\n",
       "      <td>0.0</td>\n",
       "      <td>0.0</td>\n",
       "      <td>0.0</td>\n",
       "      <td>0.0</td>\n",
       "      <td>NaN</td>\n",
       "      <td>NaN</td>\n",
       "      <td>0.0</td>\n",
       "      <td>...</td>\n",
       "      <td>chrome 62.0</td>\n",
       "      <td>NaN</td>\n",
       "      <td>NaN</td>\n",
       "      <td>NaN</td>\n",
       "      <td>F</td>\n",
       "      <td>F</td>\n",
       "      <td>T</td>\n",
       "      <td>T</td>\n",
       "      <td>desktop</td>\n",
       "      <td>Windows</td>\n",
       "    </tr>\n",
       "    <tr>\n",
       "      <th>3</th>\n",
       "      <td>2987011</td>\n",
       "      <td>-5.0</td>\n",
       "      <td>221832.0</td>\n",
       "      <td>NaN</td>\n",
       "      <td>NaN</td>\n",
       "      <td>0.0</td>\n",
       "      <td>-6.0</td>\n",
       "      <td>NaN</td>\n",
       "      <td>NaN</td>\n",
       "      <td>NaN</td>\n",
       "      <td>...</td>\n",
       "      <td>chrome 62.0</td>\n",
       "      <td>NaN</td>\n",
       "      <td>NaN</td>\n",
       "      <td>NaN</td>\n",
       "      <td>F</td>\n",
       "      <td>F</td>\n",
       "      <td>T</td>\n",
       "      <td>T</td>\n",
       "      <td>desktop</td>\n",
       "      <td>NaN</td>\n",
       "    </tr>\n",
       "    <tr>\n",
       "      <th>4</th>\n",
       "      <td>2987016</td>\n",
       "      <td>0.0</td>\n",
       "      <td>7460.0</td>\n",
       "      <td>0.0</td>\n",
       "      <td>0.0</td>\n",
       "      <td>1.0</td>\n",
       "      <td>0.0</td>\n",
       "      <td>NaN</td>\n",
       "      <td>NaN</td>\n",
       "      <td>0.0</td>\n",
       "      <td>...</td>\n",
       "      <td>chrome 62.0</td>\n",
       "      <td>24.0</td>\n",
       "      <td>1280x800</td>\n",
       "      <td>match_status:2</td>\n",
       "      <td>T</td>\n",
       "      <td>F</td>\n",
       "      <td>T</td>\n",
       "      <td>T</td>\n",
       "      <td>desktop</td>\n",
       "      <td>MacOS</td>\n",
       "    </tr>\n",
       "  </tbody>\n",
       "</table>\n",
       "<p>5 rows × 41 columns</p>\n",
       "</div>"
      ],
      "text/plain": [
       "   TransactionID  id_01     id_02  id_03  id_04  id_05  id_06  id_07  id_08  \\\n",
       "0        2987004    0.0   70787.0    NaN    NaN    NaN    NaN    NaN    NaN   \n",
       "1        2987008   -5.0   98945.0    NaN    NaN    0.0   -5.0    NaN    NaN   \n",
       "2        2987010   -5.0  191631.0    0.0    0.0    0.0    0.0    NaN    NaN   \n",
       "3        2987011   -5.0  221832.0    NaN    NaN    0.0   -6.0    NaN    NaN   \n",
       "4        2987016    0.0    7460.0    0.0    0.0    1.0    0.0    NaN    NaN   \n",
       "\n",
       "   id_09              ...                              id_31  id_32  \\\n",
       "0    NaN              ...                samsung browser 6.2   32.0   \n",
       "1    NaN              ...                 mobile safari 11.0   32.0   \n",
       "2    0.0              ...                        chrome 62.0    NaN   \n",
       "3    NaN              ...                        chrome 62.0    NaN   \n",
       "4    0.0              ...                        chrome 62.0   24.0   \n",
       "\n",
       "       id_33           id_34  id_35 id_36 id_37  id_38  DeviceType  \\\n",
       "0  2220x1080  match_status:2      T     F     T      T      mobile   \n",
       "1   1334x750  match_status:1      T     F     F      T      mobile   \n",
       "2        NaN             NaN      F     F     T      T     desktop   \n",
       "3        NaN             NaN      F     F     T      T     desktop   \n",
       "4   1280x800  match_status:2      T     F     T      T     desktop   \n",
       "\n",
       "                      DeviceInfo  \n",
       "0  SAMSUNG SM-G892A Build/NRD90M  \n",
       "1                     iOS Device  \n",
       "2                        Windows  \n",
       "3                            NaN  \n",
       "4                          MacOS  \n",
       "\n",
       "[5 rows x 41 columns]"
      ]
     },
     "execution_count": 3,
     "metadata": {},
     "output_type": "execute_result"
    }
   ],
   "source": [
    "train_identity.head()"
   ]
  },
  {
   "cell_type": "code",
   "execution_count": 4,
   "metadata": {},
   "outputs": [
    {
     "data": {
      "text/plain": [
       "Index(['TransactionID', 'isFraud', 'TransactionDT', 'TransactionAmt',\n",
       "       'ProductCD', 'card1', 'card2', 'card3', 'card4', 'card5',\n",
       "       ...\n",
       "       'id_31', 'id_32', 'id_33', 'id_34', 'id_35', 'id_36', 'id_37', 'id_38',\n",
       "       'DeviceType', 'DeviceInfo'],\n",
       "      dtype='object', length=434)"
      ]
     },
     "execution_count": 4,
     "metadata": {},
     "output_type": "execute_result"
    }
   ],
   "source": [
    "train.columns"
   ]
  },
  {
   "cell_type": "code",
   "execution_count": 5,
   "metadata": {},
   "outputs": [
    {
     "data": {
      "text/plain": [
       "Index(['TransactionID', 'TransactionDT', 'TransactionAmt', 'ProductCD',\n",
       "       'card1', 'card2', 'card3', 'card4', 'card5', 'card6',\n",
       "       ...\n",
       "       'id_31', 'id_32', 'id_33', 'id_34', 'id_35', 'id_36', 'id_37', 'id_38',\n",
       "       'DeviceType', 'DeviceInfo'],\n",
       "      dtype='object', length=433)"
      ]
     },
     "execution_count": 5,
     "metadata": {},
     "output_type": "execute_result"
    }
   ],
   "source": [
    "test.columns"
   ]
  },
  {
   "cell_type": "code",
   "execution_count": 23,
   "metadata": {},
   "outputs": [],
   "source": [
    "y_train = train.isFraud\n",
    "X_train = train.drop('isFraud', axis=1)\n",
    "X_test = test.copy()"
   ]
  },
  {
   "cell_type": "code",
   "execution_count": 16,
   "metadata": {},
   "outputs": [
    {
     "ename": "NameError",
     "evalue": "name 'X_train' is not defined",
     "output_type": "error",
     "traceback": [
      "\u001b[0;31m---------------------------------------------------------------------------\u001b[0m",
      "\u001b[0;31mNameError\u001b[0m                                 Traceback (most recent call last)",
      "\u001b[0;32m<ipython-input-16-9fde1f0b6eee>\u001b[0m in \u001b[0;36m<module>\u001b[0;34m\u001b[0m\n\u001b[0;32m----> 1\u001b[0;31m \u001b[0mX_train\u001b[0m \u001b[0;34m=\u001b[0m \u001b[0mX_train\u001b[0m\u001b[0;34m.\u001b[0m\u001b[0mfillna\u001b[0m\u001b[0;34m(\u001b[0m\u001b[0;34m-\u001b[0m\u001b[0;36m999\u001b[0m\u001b[0;34m)\u001b[0m\u001b[0;34m\u001b[0m\u001b[0;34m\u001b[0m\u001b[0m\n\u001b[0m\u001b[1;32m      2\u001b[0m \u001b[0mX_test\u001b[0m \u001b[0;34m=\u001b[0m \u001b[0mX_test\u001b[0m\u001b[0;34m.\u001b[0m\u001b[0mfillna\u001b[0m\u001b[0;34m(\u001b[0m\u001b[0;34m-\u001b[0m\u001b[0;36m999\u001b[0m\u001b[0;34m)\u001b[0m\u001b[0;34m\u001b[0m\u001b[0;34m\u001b[0m\u001b[0m\n\u001b[1;32m      3\u001b[0m \u001b[0;31m# Label Encoding\u001b[0m\u001b[0;34m\u001b[0m\u001b[0;34m\u001b[0m\u001b[0;34m\u001b[0m\u001b[0m\n\u001b[1;32m      4\u001b[0m \u001b[0;32mfor\u001b[0m \u001b[0mf\u001b[0m \u001b[0;32min\u001b[0m \u001b[0mX_train\u001b[0m\u001b[0;34m.\u001b[0m\u001b[0mcolumns\u001b[0m\u001b[0;34m:\u001b[0m\u001b[0;34m\u001b[0m\u001b[0;34m\u001b[0m\u001b[0m\n\u001b[1;32m      5\u001b[0m     \u001b[0;32mif\u001b[0m \u001b[0mX_train\u001b[0m\u001b[0;34m[\u001b[0m\u001b[0mf\u001b[0m\u001b[0;34m]\u001b[0m\u001b[0;34m.\u001b[0m\u001b[0mdtype\u001b[0m\u001b[0;34m==\u001b[0m\u001b[0;34m'object'\u001b[0m \u001b[0;32mor\u001b[0m \u001b[0mX_test\u001b[0m\u001b[0;34m[\u001b[0m\u001b[0mf\u001b[0m\u001b[0;34m]\u001b[0m\u001b[0;34m.\u001b[0m\u001b[0mdtype\u001b[0m\u001b[0;34m==\u001b[0m\u001b[0;34m'object'\u001b[0m\u001b[0;34m:\u001b[0m\u001b[0;34m\u001b[0m\u001b[0;34m\u001b[0m\u001b[0m\n",
      "\u001b[0;31mNameError\u001b[0m: name 'X_train' is not defined"
     ]
    }
   ],
   "source": [
    "X_train = X_train.fillna(-999)\n",
    "X_test = X_test.fillna(-999)\n",
    "# Label Encoding\n",
    "for f in X_train.columns:\n",
    "    if X_train[f].dtype=='object' or X_test[f].dtype=='object': \n",
    "        lbl = preprocessing.LabelEncoder()\n",
    "        lbl.fit(list(X_train[f].values) + list(X_test[f].values))\n",
    "        X_train[f] = lbl.transform(list(X_train[f].values))\n",
    "        X_test[f] = lbl.transform(list(X_test[f].values))   "
   ]
  },
  {
   "cell_type": "code",
   "execution_count": 25,
   "metadata": {},
   "outputs": [],
   "source": [
    "del train, test"
   ]
  },
  {
   "cell_type": "code",
   "execution_count": 10,
   "metadata": {},
   "outputs": [],
   "source": [
    "clf = xgb.XGBClassifier(\n",
    "    n_estimators=500,\n",
    "    max_depth=6,\n",
    "    learning_rate=0.05,\n",
    "    subsample=0.9,\n",
    "    colsample_bytree=0.9,\n",
    "    missing=-999,\n",
    "    nthread=10\n",
    "    #tree_method='gpu_hist'  # THE MAGICAL PARAMETER\n",
    ")"
   ]
  },
  {
   "cell_type": "code",
   "execution_count": 11,
   "metadata": {},
   "outputs": [
    {
     "name": "stdout",
     "output_type": "stream",
     "text": [
      "CPU times: user 2h 26min 58s, sys: 6min 24s, total: 2h 33min 22s\n",
      "Wall time: 19min 22s\n"
     ]
    },
    {
     "data": {
      "text/plain": [
       "XGBClassifier(base_score=0.5, booster='gbtree', colsample_bylevel=1,\n",
       "       colsample_bynode=1, colsample_bytree=0.9, gamma=0,\n",
       "       learning_rate=0.05, max_delta_step=0, max_depth=6,\n",
       "       min_child_weight=1, missing=-999, n_estimators=500, n_jobs=1,\n",
       "       nthread=10, objective='binary:logistic', random_state=0,\n",
       "       reg_alpha=0, reg_lambda=1, scale_pos_weight=1, seed=None,\n",
       "       silent=None, subsample=0.9, verbosity=1)"
      ]
     },
     "execution_count": 11,
     "metadata": {},
     "output_type": "execute_result"
    }
   ],
   "source": [
    "%time clf.fit(X_train, y_train)"
   ]
  },
  {
   "cell_type": "code",
   "execution_count": 13,
   "metadata": {},
   "outputs": [],
   "source": [
    "sample_submission = pd.read_csv(f'{folder_path}sample_submission.csv', index_col='TransactionID')"
   ]
  },
  {
   "cell_type": "code",
   "execution_count": 14,
   "metadata": {},
   "outputs": [],
   "source": [
    "sample_submission = pd.read_csv(f'{folder_path}sample_submission.csv', index_col='TransactionID')\n",
    "sample_submission['isFraud'] = clf.predict_proba(X_test)[:,1]\n",
    "sample_submission.to_csv('simple_xgboost_gpu.csv')"
   ]
  },
  {
   "cell_type": "markdown",
   "metadata": {},
   "source": [
    "## LGBM with Bayes Opt"
   ]
  },
  {
   "cell_type": "code",
   "execution_count": 3,
   "metadata": {},
   "outputs": [],
   "source": [
    "#  Libraries\n",
    "import numpy as np \n",
    "import pandas as pd \n",
    "# Data processing, metrics and modeling\n",
    "from sklearn.preprocessing import LabelEncoder\n",
    "from sklearn.model_selection import train_test_split, StratifiedKFold,KFold\n",
    "from bayes_opt import BayesianOptimization\n",
    "from datetime import datetime\n",
    "from sklearn.metrics import precision_score, recall_score, confusion_matrix, accuracy_score, roc_auc_score, f1_score, roc_curve, auc,precision_recall_curve\n",
    "from sklearn import metrics\n",
    "from sklearn import preprocessing\n",
    "# Lgbm\n",
    "import lightgbm as lgb\n",
    "# Suppr warning\n",
    "import warnings\n",
    "warnings.filterwarnings(\"ignore\")\n",
    "\n",
    "import itertools\n",
    "from scipy import interp\n",
    "\n",
    "# Plots\n",
    "import seaborn as sns\n",
    "import matplotlib.pyplot as plt\n",
    "%matplotlib inline\n",
    "from matplotlib import rcParams"
   ]
  },
  {
   "cell_type": "code",
   "execution_count": 4,
   "metadata": {},
   "outputs": [],
   "source": [
    "features = list(train)\n",
    "features.remove('isFraud')\n",
    "target = 'isFraud'"
   ]
  },
  {
   "cell_type": "code",
   "execution_count": 5,
   "metadata": {},
   "outputs": [],
   "source": [
    "train = train.fillna(-999)\n",
    "test = test.fillna(-999)\n",
    "for f in features:\n",
    "    if train[f].dtype=='object' or test[f].dtype=='object':\n",
    "        lbl = preprocessing.LabelEncoder()\n",
    "        lbl.fit(list(train[f].values) + list(test[f].values))\n",
    "        train[f] = lbl.transform(list(train[f].values))\n",
    "        test[f] = lbl.transform(list(test[f].values))\n"
   ]
  },
  {
   "cell_type": "code",
   "execution_count": 6,
   "metadata": {},
   "outputs": [],
   "source": [
    "#cut tr and val\n",
    "bayesian_tr_idx, bayesian_val_idx = train_test_split(train, test_size = 0.3, random_state = 87, stratify = train[target])\n",
    "bayesian_tr_idx = bayesian_tr_idx.index\n",
    "bayesian_val_idx = bayesian_val_idx.index"
   ]
  },
  {
   "cell_type": "code",
   "execution_count": 17,
   "metadata": {},
   "outputs": [],
   "source": [
    "def LGB_bayesian(\n",
    "    #learning_rate,\n",
    "    num_leaves, \n",
    "    bagging_fraction,\n",
    "    feature_fraction,\n",
    "    min_child_samples, \n",
    "    min_child_weight,\n",
    "    subsample, \n",
    "    min_data_in_leaf,\n",
    "    max_depth,\n",
    "    colsample_bytree,\n",
    "    reg_alpha,\n",
    "    reg_lambda\n",
    "     ):\n",
    "    \n",
    "    # LightGBM expects next three parameters need to be integer. \n",
    "    num_leaves = int(num_leaves)\n",
    "    min_data_in_leaf = int(min_data_in_leaf)\n",
    "    max_depth = int(max_depth)\n",
    "\n",
    "    assert type(num_leaves) == int\n",
    "    assert type(min_data_in_leaf) == int\n",
    "    assert type(max_depth) == int\n",
    "    \n",
    "\n",
    "    param = {\n",
    "              'num_leaves': num_leaves, \n",
    "              'min_child_samples': min_child_samples, \n",
    "              'min_data_in_leaf': min_data_in_leaf,\n",
    "              'min_child_weight': min_child_weight,\n",
    "              'bagging_fraction' : bagging_fraction,\n",
    "              'feature_fraction' : feature_fraction,\n",
    "              #'learning_rate' : learning_rate,\n",
    "              'subsample': subsample, \n",
    "              'max_depth': max_depth,\n",
    "              'colsample_bytree': colsample_bytree,\n",
    "              'reg_alpha': reg_alpha,\n",
    "              'reg_lambda': reg_lambda,\n",
    "              'objective': 'binary',\n",
    "              'save_binary': True,\n",
    "              'seed': 1337,\n",
    "              'feature_fraction_seed': 1337,\n",
    "              'bagging_seed': 1337,\n",
    "              'drop_seed': 1337,\n",
    "              'data_random_seed': 1337,\n",
    "              'boosting_type': 'gbdt',\n",
    "              'verbose': 1,\n",
    "              'is_unbalance': False,\n",
    "              'boost_from_average': True,\n",
    "              'metric':'auc'}    \n",
    "    \n",
    "    oof = np.zeros(len(train))\n",
    "    trn_data= lgb.Dataset(train.iloc[bayesian_tr_idx][features].values, label=train.iloc[bayesian_tr_idx][target].values)\n",
    "    val_data= lgb.Dataset(train.iloc[bayesian_val_idx][features].values, label=train.iloc[bayesian_val_idx][target].values)\n",
    "\n",
    "    clf = lgb.train(param, trn_data,  num_boost_round=50, valid_sets = [trn_data, val_data], verbose_eval=0, early_stopping_rounds = 50)\n",
    "    \n",
    "    oof[bayesian_val_idx]  = clf.predict(train.iloc[bayesian_val_idx][features].values, num_iteration=clf.best_iteration)  \n",
    "    \n",
    "    score = roc_auc_score(train.iloc[bayesian_val_idx][target].values, oof[bayesian_val_idx])\n",
    "\n",
    "    return score"
   ]
  },
  {
   "cell_type": "code",
   "execution_count": 7,
   "metadata": {},
   "outputs": [],
   "source": [
    "# Bounded region of parameter space\n",
    "bounds_LGB = {\n",
    "    'num_leaves': (31, 500), \n",
    "    'min_data_in_leaf': (20, 200),\n",
    "    'bagging_fraction' : (0.1,0.9),\n",
    "    'feature_fraction' : (0.1,0.9),\n",
    "    #'learning_rate': (0.01, 0.3),\n",
    "    'min_child_weight': (0.00001, 0.01),   \n",
    "    'min_child_samples':(100, 500), \n",
    "    'subsample': (0.2, 0.8),\n",
    "    'colsample_bytree': (0.4, 0.6), \n",
    "    'reg_alpha': (1, 2), \n",
    "    'reg_lambda': (1, 2),\n",
    "    'max_depth':(-1,50),\n",
    "}"
   ]
  },
  {
   "cell_type": "code",
   "execution_count": 19,
   "metadata": {},
   "outputs": [],
   "source": [
    "LGB_BO = BayesianOptimization(LGB_bayesian, bounds_LGB, random_state=87)"
   ]
  },
  {
   "cell_type": "code",
   "execution_count": 20,
   "metadata": {},
   "outputs": [
    {
     "name": "stdout",
     "output_type": "stream",
     "text": [
      "['bagging_fraction', 'colsample_bytree', 'feature_fraction', 'max_depth', 'min_child_samples', 'min_child_weight', 'min_data_in_leaf', 'num_leaves', 'reg_alpha', 'reg_lambda', 'subsample']\n"
     ]
    }
   ],
   "source": [
    "print(LGB_BO.space.keys)"
   ]
  },
  {
   "cell_type": "code",
   "execution_count": 21,
   "metadata": {},
   "outputs": [],
   "source": [
    "init_points = 10\n",
    "n_iter = 15"
   ]
  },
  {
   "cell_type": "code",
   "execution_count": 22,
   "metadata": {},
   "outputs": [
    {
     "name": "stdout",
     "output_type": "stream",
     "text": [
      "----------------------------------------------------------------------------------------------------------------------------------\n",
      "|   iter    |  target   | baggin... | colsam... | featur... | max_depth | min_ch... | min_ch... | min_da... | num_le... | reg_alpha | reg_la... | subsample |\n",
      "-------------------------------------------------------------------------------------------------------------------------------------------------------------\n",
      "| \u001b[0m 1       \u001b[0m | \u001b[0m 0.8785  \u001b[0m | \u001b[0m 0.625   \u001b[0m | \u001b[0m 0.591   \u001b[0m | \u001b[0m 0.8767  \u001b[0m | \u001b[0m 3.989   \u001b[0m | \u001b[0m 196.3   \u001b[0m | \u001b[0m 0.008688\u001b[0m | \u001b[0m 118.5   \u001b[0m | \u001b[0m 368.3   \u001b[0m | \u001b[0m 1.926   \u001b[0m | \u001b[0m 1.617   \u001b[0m | \u001b[0m 0.6001  \u001b[0m |\n",
      "| \u001b[95m 2       \u001b[0m | \u001b[95m 0.9514  \u001b[0m | \u001b[95m 0.3671  \u001b[0m | \u001b[95m 0.4366  \u001b[0m | \u001b[95m 0.39    \u001b[0m | \u001b[95m 19.49   \u001b[0m | \u001b[95m 404.8   \u001b[0m | \u001b[95m 0.002675\u001b[0m | \u001b[95m 68.08   \u001b[0m | \u001b[95m 488.8   \u001b[0m | \u001b[95m 1.062   \u001b[0m | \u001b[95m 1.419   \u001b[0m | \u001b[95m 0.4107  \u001b[0m |\n",
      "| \u001b[0m 3       \u001b[0m | \u001b[0m 0.9433  \u001b[0m | \u001b[0m 0.1716  \u001b[0m | \u001b[0m 0.4395  \u001b[0m | \u001b[0m 0.8527  \u001b[0m | \u001b[0m-0.4612  \u001b[0m | \u001b[0m 174.4   \u001b[0m | \u001b[0m 0.009855\u001b[0m | \u001b[0m 81.25   \u001b[0m | \u001b[0m 184.1   \u001b[0m | \u001b[0m 1.654   \u001b[0m | \u001b[0m 1.022   \u001b[0m | \u001b[0m 0.3152  \u001b[0m |\n",
      "| \u001b[0m 4       \u001b[0m | \u001b[0m 0.9448  \u001b[0m | \u001b[0m 0.862   \u001b[0m | \u001b[0m 0.5501  \u001b[0m | \u001b[0m 0.2816  \u001b[0m | \u001b[0m 31.53   \u001b[0m | \u001b[0m 112.8   \u001b[0m | \u001b[0m 0.004128\u001b[0m | \u001b[0m 190.5   \u001b[0m | \u001b[0m 388.1   \u001b[0m | \u001b[0m 1.462   \u001b[0m | \u001b[0m 1.358   \u001b[0m | \u001b[0m 0.3631  \u001b[0m |\n",
      "| \u001b[0m 5       \u001b[0m | \u001b[0m 0.936   \u001b[0m | \u001b[0m 0.2312  \u001b[0m | \u001b[0m 0.5298  \u001b[0m | \u001b[0m 0.66    \u001b[0m | \u001b[0m 37.43   \u001b[0m | \u001b[0m 473.6   \u001b[0m | \u001b[0m 0.006186\u001b[0m | \u001b[0m 145.7   \u001b[0m | \u001b[0m 128.2   \u001b[0m | \u001b[0m 1.013   \u001b[0m | \u001b[0m 1.891   \u001b[0m | \u001b[0m 0.7083  \u001b[0m |\n",
      "| \u001b[0m 6       \u001b[0m | \u001b[0m 0.9275  \u001b[0m | \u001b[0m 0.7568  \u001b[0m | \u001b[0m 0.5606  \u001b[0m | \u001b[0m 0.4765  \u001b[0m | \u001b[0m 19.82   \u001b[0m | \u001b[0m 190.2   \u001b[0m | \u001b[0m 0.003066\u001b[0m | \u001b[0m 69.62   \u001b[0m | \u001b[0m 91.44   \u001b[0m | \u001b[0m 1.265   \u001b[0m | \u001b[0m 1.049   \u001b[0m | \u001b[0m 0.4725  \u001b[0m |\n",
      "| \u001b[0m 7       \u001b[0m | \u001b[0m 0.9473  \u001b[0m | \u001b[0m 0.4463  \u001b[0m | \u001b[0m 0.5177  \u001b[0m | \u001b[0m 0.5857  \u001b[0m | \u001b[0m 23.81   \u001b[0m | \u001b[0m 177.3   \u001b[0m | \u001b[0m 0.006355\u001b[0m | \u001b[0m 83.62   \u001b[0m | \u001b[0m 288.2   \u001b[0m | \u001b[0m 1.256   \u001b[0m | \u001b[0m 1.605   \u001b[0m | \u001b[0m 0.3064  \u001b[0m |\n",
      "| \u001b[0m 8       \u001b[0m | \u001b[0m 0.9497  \u001b[0m | \u001b[0m 0.8814  \u001b[0m | \u001b[0m 0.4199  \u001b[0m | \u001b[0m 0.4823  \u001b[0m | \u001b[0m 22.89   \u001b[0m | \u001b[0m 103.6   \u001b[0m | \u001b[0m 0.004909\u001b[0m | \u001b[0m 26.29   \u001b[0m | \u001b[0m 417.1   \u001b[0m | \u001b[0m 1.488   \u001b[0m | \u001b[0m 1.827   \u001b[0m | \u001b[0m 0.7021  \u001b[0m |\n",
      "| \u001b[0m 9       \u001b[0m | \u001b[0m 0.9444  \u001b[0m | \u001b[0m 0.8422  \u001b[0m | \u001b[0m 0.508   \u001b[0m | \u001b[0m 0.8229  \u001b[0m | \u001b[0m 25.82   \u001b[0m | \u001b[0m 121.3   \u001b[0m | \u001b[0m 0.003158\u001b[0m | \u001b[0m 185.8   \u001b[0m | \u001b[0m 211.5   \u001b[0m | \u001b[0m 1.015   \u001b[0m | \u001b[0m 1.035   \u001b[0m | \u001b[0m 0.2227  \u001b[0m |\n",
      "| \u001b[0m 10      \u001b[0m | \u001b[0m 0.9459  \u001b[0m | \u001b[0m 0.8412  \u001b[0m | \u001b[0m 0.5646  \u001b[0m | \u001b[0m 0.3652  \u001b[0m | \u001b[0m 22.5    \u001b[0m | \u001b[0m 309.6   \u001b[0m | \u001b[0m 0.001886\u001b[0m | \u001b[0m 189.5   \u001b[0m | \u001b[0m 363.9   \u001b[0m | \u001b[0m 1.649   \u001b[0m | \u001b[0m 1.277   \u001b[0m | \u001b[0m 0.4311  \u001b[0m |\n",
      "| \u001b[0m 11      \u001b[0m | \u001b[0m 0.9305  \u001b[0m | \u001b[0m 0.1     \u001b[0m | \u001b[0m 0.4     \u001b[0m | \u001b[0m 0.1     \u001b[0m | \u001b[0m 50.0    \u001b[0m | \u001b[0m 500.0   \u001b[0m | \u001b[0m 0.01    \u001b[0m | \u001b[0m 200.0   \u001b[0m | \u001b[0m 500.0   \u001b[0m | \u001b[0m 1.0     \u001b[0m | \u001b[0m 1.0     \u001b[0m | \u001b[0m 0.2     \u001b[0m |\n",
      "| \u001b[0m 12      \u001b[0m | \u001b[0m 0.9279  \u001b[0m | \u001b[0m 0.9     \u001b[0m | \u001b[0m 0.4274  \u001b[0m | \u001b[0m 0.1     \u001b[0m | \u001b[0m 50.0    \u001b[0m | \u001b[0m 500.0   \u001b[0m | \u001b[0m 1e-05   \u001b[0m | \u001b[0m 20.0    \u001b[0m | \u001b[0m 294.5   \u001b[0m | \u001b[0m 2.0     \u001b[0m | \u001b[0m 1.0     \u001b[0m | \u001b[0m 0.2     \u001b[0m |\n",
      "| \u001b[0m 13      \u001b[0m | \u001b[0m 0.9198  \u001b[0m | \u001b[0m 0.2834  \u001b[0m | \u001b[0m 0.5963  \u001b[0m | \u001b[0m 0.1     \u001b[0m | \u001b[0m 50.0    \u001b[0m | \u001b[0m 100.0   \u001b[0m | \u001b[0m 0.008979\u001b[0m | \u001b[0m 20.0    \u001b[0m | \u001b[0m 157.2   \u001b[0m | \u001b[0m 2.0     \u001b[0m | \u001b[0m 1.179   \u001b[0m | \u001b[0m 0.2     \u001b[0m |\n",
      "| \u001b[0m 14      \u001b[0m | \u001b[0m 0.8928  \u001b[0m | \u001b[0m 0.9     \u001b[0m | \u001b[0m 0.4     \u001b[0m | \u001b[0m 0.1     \u001b[0m | \u001b[0m-1.0     \u001b[0m | \u001b[0m 500.0   \u001b[0m | \u001b[0m 0.01    \u001b[0m | \u001b[0m 20.0    \u001b[0m | \u001b[0m 31.0    \u001b[0m | \u001b[0m 1.0     \u001b[0m | \u001b[0m 1.0     \u001b[0m | \u001b[0m 0.4057  \u001b[0m |\n",
      "| \u001b[0m 15      \u001b[0m | \u001b[0m 0.9305  \u001b[0m | \u001b[0m 0.1     \u001b[0m | \u001b[0m 0.4     \u001b[0m | \u001b[0m 0.1     \u001b[0m | \u001b[0m 50.0    \u001b[0m | \u001b[0m 100.0   \u001b[0m | \u001b[0m 0.01    \u001b[0m | \u001b[0m 200.0   \u001b[0m | \u001b[0m 500.0   \u001b[0m | \u001b[0m 1.0     \u001b[0m | \u001b[0m 1.0     \u001b[0m | \u001b[0m 0.2     \u001b[0m |\n",
      "| \u001b[0m 16      \u001b[0m | \u001b[0m 0.9031  \u001b[0m | \u001b[0m 0.1     \u001b[0m | \u001b[0m 0.6     \u001b[0m | \u001b[0m 0.275   \u001b[0m | \u001b[0m-1.0     \u001b[0m | \u001b[0m 343.1   \u001b[0m | \u001b[0m 1e-05   \u001b[0m | \u001b[0m 200.0   \u001b[0m | \u001b[0m 31.0    \u001b[0m | \u001b[0m 1.0     \u001b[0m | \u001b[0m 1.921   \u001b[0m | \u001b[0m 0.2     \u001b[0m |\n",
      "| \u001b[0m 17      \u001b[0m | \u001b[0m 0.9398  \u001b[0m | \u001b[0m 0.9     \u001b[0m | \u001b[0m 0.6     \u001b[0m | \u001b[0m 0.86    \u001b[0m | \u001b[0m 50.0    \u001b[0m | \u001b[0m 327.9   \u001b[0m | \u001b[0m 1e-05   \u001b[0m | \u001b[0m 20.0    \u001b[0m | \u001b[0m 149.4   \u001b[0m | \u001b[0m 1.36    \u001b[0m | \u001b[0m 2.0     \u001b[0m | \u001b[0m 0.2     \u001b[0m |\n",
      "| \u001b[95m 18      \u001b[0m | \u001b[95m 0.9517  \u001b[0m | \u001b[95m 0.5494  \u001b[0m | \u001b[95m 0.4726  \u001b[0m | \u001b[95m 0.4338  \u001b[0m | \u001b[95m 49.87   \u001b[0m | \u001b[95m 495.8   \u001b[0m | \u001b[95m 0.004002\u001b[0m | \u001b[95m 22.66   \u001b[0m | \u001b[95m 486.3   \u001b[0m | \u001b[95m 1.826   \u001b[0m | \u001b[95m 1.445   \u001b[0m | \u001b[95m 0.5036  \u001b[0m |\n",
      "| \u001b[0m 19      \u001b[0m | \u001b[0m 0.9421  \u001b[0m | \u001b[0m 0.6386  \u001b[0m | \u001b[0m 0.413   \u001b[0m | \u001b[0m 0.2921  \u001b[0m | \u001b[0m-0.5898  \u001b[0m | \u001b[0m 497.8   \u001b[0m | \u001b[0m 0.007729\u001b[0m | \u001b[0m 188.5   \u001b[0m | \u001b[0m 286.0   \u001b[0m | \u001b[0m 1.325   \u001b[0m | \u001b[0m 1.737   \u001b[0m | \u001b[0m 0.7453  \u001b[0m |\n",
      "| \u001b[95m 20      \u001b[0m | \u001b[95m 0.9562  \u001b[0m | \u001b[95m 0.2548  \u001b[0m | \u001b[95m 0.5579  \u001b[0m | \u001b[95m 0.6908  \u001b[0m | \u001b[95m 45.83   \u001b[0m | \u001b[95m 299.1   \u001b[0m | \u001b[95m 0.003178\u001b[0m | \u001b[95m 21.43   \u001b[0m | \u001b[95m 490.2   \u001b[0m | \u001b[95m 1.608   \u001b[0m | \u001b[95m 1.144   \u001b[0m | \u001b[95m 0.7539  \u001b[0m |\n",
      "| \u001b[0m 21      \u001b[0m | \u001b[0m 0.9364  \u001b[0m | \u001b[0m 0.226   \u001b[0m | \u001b[0m 0.5054  \u001b[0m | \u001b[0m 0.289   \u001b[0m | \u001b[0m 49.88   \u001b[0m | \u001b[0m 328.4   \u001b[0m | \u001b[0m 0.006901\u001b[0m | \u001b[0m 199.3   \u001b[0m | \u001b[0m 199.0   \u001b[0m | \u001b[0m 1.94    \u001b[0m | \u001b[0m 1.9     \u001b[0m | \u001b[0m 0.5785  \u001b[0m |\n",
      "| \u001b[0m 22      \u001b[0m | \u001b[0m 0.9534  \u001b[0m | \u001b[0m 0.7304  \u001b[0m | \u001b[0m 0.4588  \u001b[0m | \u001b[0m 0.8267  \u001b[0m | \u001b[0m 49.65   \u001b[0m | \u001b[0m 415.6   \u001b[0m | \u001b[0m 0.008353\u001b[0m | \u001b[0m 108.0   \u001b[0m | \u001b[0m 381.9   \u001b[0m | \u001b[0m 1.09    \u001b[0m | \u001b[0m 1.209   \u001b[0m | \u001b[0m 0.3027  \u001b[0m |\n",
      "| \u001b[0m 23      \u001b[0m | \u001b[0m 0.9475  \u001b[0m | \u001b[0m 0.467   \u001b[0m | \u001b[0m 0.5769  \u001b[0m | \u001b[0m 0.4364  \u001b[0m | \u001b[0m 48.29   \u001b[0m | \u001b[0m 413.2   \u001b[0m | \u001b[0m 0.001289\u001b[0m | \u001b[0m 108.5   \u001b[0m | \u001b[0m 380.0   \u001b[0m | \u001b[0m 1.544   \u001b[0m | \u001b[0m 1.856   \u001b[0m | \u001b[0m 0.4127  \u001b[0m |\n",
      "| \u001b[0m 24      \u001b[0m | \u001b[0m 0.9053  \u001b[0m | \u001b[0m 0.5334  \u001b[0m | \u001b[0m 0.4726  \u001b[0m | \u001b[0m 0.4518  \u001b[0m | \u001b[0m 49.89   \u001b[0m | \u001b[0m 498.3   \u001b[0m | \u001b[0m 0.002243\u001b[0m | \u001b[0m 177.1   \u001b[0m | \u001b[0m 31.86   \u001b[0m | \u001b[0m 1.522   \u001b[0m | \u001b[0m 1.954   \u001b[0m | \u001b[0m 0.6116  \u001b[0m |\n",
      "| \u001b[0m 25      \u001b[0m | \u001b[0m 0.9501  \u001b[0m | \u001b[0m 0.6188  \u001b[0m | \u001b[0m 0.5582  \u001b[0m | \u001b[0m 0.4208  \u001b[0m | \u001b[0m 48.39   \u001b[0m | \u001b[0m 368.4   \u001b[0m | \u001b[0m 0.004544\u001b[0m | \u001b[0m 198.0   \u001b[0m | \u001b[0m 492.7   \u001b[0m | \u001b[0m 1.127   \u001b[0m | \u001b[0m 1.229   \u001b[0m | \u001b[0m 0.4486  \u001b[0m |\n",
      "=============================================================================================================================================================\n"
     ]
    }
   ],
   "source": [
    "print('-' * 130)\n",
    "\n",
    "with warnings.catch_warnings():\n",
    "    warnings.filterwarnings('ignore')\n",
    "    LGB_BO.maximize(init_points=init_points, n_iter=n_iter, acq='ucb', xi=0.0, alpha=1e-6)"
   ]
  },
  {
   "cell_type": "code",
   "execution_count": 23,
   "metadata": {},
   "outputs": [
    {
     "data": {
      "text/plain": [
       "0.9561561314254349"
      ]
     },
     "execution_count": 23,
     "metadata": {},
     "output_type": "execute_result"
    }
   ],
   "source": [
    "LGB_BO.max['target']"
   ]
  },
  {
   "cell_type": "code",
   "execution_count": 24,
   "metadata": {},
   "outputs": [
    {
     "data": {
      "text/plain": [
       "{'bagging_fraction': 0.2548043210587658,\n",
       " 'colsample_bytree': 0.5579195650937059,\n",
       " 'feature_fraction': 0.6907660980289639,\n",
       " 'max_depth': 45.83366459783808,\n",
       " 'min_child_samples': 299.06472700672117,\n",
       " 'min_child_weight': 0.0031778570175284566,\n",
       " 'min_data_in_leaf': 21.427642007695642,\n",
       " 'num_leaves': 490.15525281823756,\n",
       " 'reg_alpha': 1.6083331773049245,\n",
       " 'reg_lambda': 1.143573447284028,\n",
       " 'subsample': 0.7539309525325935}"
      ]
     },
     "execution_count": 24,
     "metadata": {},
     "output_type": "execute_result"
    }
   ],
   "source": [
    "LGB_BO.max['params']"
   ]
  },
  {
   "cell_type": "code",
   "execution_count": 6,
   "metadata": {},
   "outputs": [],
   "source": [
    "param_lgb = {\n",
    "        'min_data_in_leaf': int(21.427642007695642), \n",
    "        'num_leaves': int(490.15525281823756), \n",
    "        #'learning_rate': LGB_BO.max['params']['learning_rate'],\n",
    "        'min_child_weight': 0.0031778570175284566,\n",
    "        'colsample_bytree' : 0.5579195650937059,\n",
    "        'bagging_fraction': 0.2548043210587658, \n",
    "        'min_child_samples': 299.06472700672117,\n",
    "        'subsample': 0.7539309525325935,\n",
    "        'reg_lambda': 1.143573447284028,\n",
    "        'reg_alpha': 1.6083331773049245,\n",
    "        'max_depth': 46, \n",
    "        'objective': 'binary',\n",
    "        'save_binary': True,\n",
    "        'seed': 1337,\n",
    "        'feature_fraction_seed': 1337,\n",
    "        'bagging_seed': 1337,\n",
    "        'drop_seed': 1337,\n",
    "        'data_random_seed': 1337,\n",
    "        'boosting_type': 'gbdt',\n",
    "        'verbose': 1,\n",
    "        'is_unbalance': False,\n",
    "        'boost_from_average': True,\n",
    "        'metric':'auc'\n",
    "    }"
   ]
  },
  {
   "cell_type": "code",
   "execution_count": 25,
   "metadata": {},
   "outputs": [],
   "source": [
    "param_lgb = {\n",
    "        'min_data_in_leaf': int(LGB_BO.max['params']['min_data_in_leaf']), \n",
    "        'num_leaves': int(LGB_BO.max['params']['num_leaves']), \n",
    "        #'learning_rate': LGB_BO.max['params']['learning_rate'],\n",
    "        'min_child_weight': LGB_BO.max['params']['min_child_weight'],\n",
    "        'colsample_bytree' : LGB_BO.max['params']['colsample_bytree'],\n",
    "        'bagging_fraction': LGB_BO.max['params']['bagging_fraction'], \n",
    "        'min_child_samples': LGB_BO.max['params']['min_child_samples'],\n",
    "        'subsample': LGB_BO.max['params']['subsample'],\n",
    "        'reg_lambda': LGB_BO.max['params']['reg_lambda'],\n",
    "        'reg_alpha': LGB_BO.max['params']['reg_alpha'],\n",
    "        'max_depth': int(LGB_BO.max['params']['max_depth']), \n",
    "        'objective': 'binary',\n",
    "        'save_binary': True,\n",
    "        'seed': 1337,\n",
    "        'feature_fraction_seed': 1337,\n",
    "        'bagging_seed': 1337,\n",
    "        'drop_seed': 1337,\n",
    "        'data_random_seed': 1337,\n",
    "        'boosting_type': 'gbdt',\n",
    "        'verbose': 1,\n",
    "        'is_unbalance': False,\n",
    "        'boost_from_average': True,\n",
    "        'metric':'auc'\n",
    "    }"
   ]
  },
  {
   "cell_type": "code",
   "execution_count": 7,
   "metadata": {},
   "outputs": [
    {
     "name": "stdout",
     "output_type": "stream",
     "text": [
      "\n",
      "fold 1\n",
      "Training until validation scores don't improve for 100 rounds.\n",
      "[100]\ttraining's auc: 0.997069\tvalid_1's auc: 0.967797\n",
      "[200]\ttraining's auc: 0.999795\tvalid_1's auc: 0.971479\n",
      "[300]\ttraining's auc: 0.99999\tvalid_1's auc: 0.972181\n",
      "[400]\ttraining's auc: 0.999999\tvalid_1's auc: 0.972107\n",
      "Early stopping, best iteration is:\n",
      "[310]\ttraining's auc: 0.999993\tvalid_1's auc: 0.972276\n",
      "\n",
      "fold 2\n",
      "Training until validation scores don't improve for 100 rounds.\n",
      "[100]\ttraining's auc: 0.997001\tvalid_1's auc: 0.966895\n",
      "[200]\ttraining's auc: 0.999833\tvalid_1's auc: 0.971771\n",
      "[300]\ttraining's auc: 0.999993\tvalid_1's auc: 0.972419\n",
      "[400]\ttraining's auc: 1\tvalid_1's auc: 0.97246\n",
      "Early stopping, best iteration is:\n",
      "[310]\ttraining's auc: 0.999995\tvalid_1's auc: 0.972483\n",
      "\n",
      "fold 3\n",
      "Training until validation scores don't improve for 100 rounds.\n",
      "[100]\ttraining's auc: 0.997111\tvalid_1's auc: 0.968182\n",
      "[200]\ttraining's auc: 0.999839\tvalid_1's auc: 0.972384\n",
      "[300]\ttraining's auc: 0.999992\tvalid_1's auc: 0.97264\n",
      "[400]\ttraining's auc: 0.999999\tvalid_1's auc: 0.972746\n",
      "Early stopping, best iteration is:\n",
      "[353]\ttraining's auc: 0.999998\tvalid_1's auc: 0.97291\n",
      "\n",
      "fold 4\n",
      "Training until validation scores don't improve for 100 rounds.\n",
      "[100]\ttraining's auc: 0.996851\tvalid_1's auc: 0.967348\n",
      "[200]\ttraining's auc: 0.999797\tvalid_1's auc: 0.97128\n",
      "[300]\ttraining's auc: 0.999989\tvalid_1's auc: 0.971973\n",
      "[400]\ttraining's auc: 0.999999\tvalid_1's auc: 0.972017\n",
      "Early stopping, best iteration is:\n",
      "[384]\ttraining's auc: 0.999999\tvalid_1's auc: 0.972106\n",
      "\n",
      "fold 5\n",
      "Training until validation scores don't improve for 100 rounds.\n",
      "[100]\ttraining's auc: 0.997126\tvalid_1's auc: 0.967826\n",
      "[200]\ttraining's auc: 0.99985\tvalid_1's auc: 0.97144\n",
      "[300]\ttraining's auc: 0.999993\tvalid_1's auc: 0.972322\n",
      "[400]\ttraining's auc: 0.999999\tvalid_1's auc: 0.972585\n",
      "[500]\ttraining's auc: 1\tvalid_1's auc: 0.972546\n",
      "Did not meet early stopping. Best iteration is:\n",
      "[500]\ttraining's auc: 1\tvalid_1's auc: 0.972546\n",
      "\n",
      "CV roc score        : 0.9725, std: 0.0003. \n",
      "CV accuracy score   : 0.9873, std: 0.0004. \n",
      "CV recall score     : 0.6628, std: 0.0098. \n",
      "CV precision score  : 0.9621, std: 0.0040. \n",
      "CV f1 score         : 0.7848, std: 0.0078.\n"
     ]
    },
    {
     "data": {
      "text/plain": [
       "<matplotlib.legend.Legend at 0x7f83a9e04358>"
      ]
     },
     "execution_count": 7,
     "metadata": {},
     "output_type": "execute_result"
    },
    {
     "data": {
      "image/png": "[encoded data removed]",
      "text/plain": [
       "<Figure size 432x288 with 1 Axes>"
      ]
     },
     "metadata": {
      "needs_background": "light"
     },
     "output_type": "display_data"
    },
    {
     "data": {
      "image/png": "[encoded data removed]",
      "text/plain": [
       "<Figure size 432x288 with 1 Axes>"
      ]
     },
     "metadata": {
      "needs_background": "light"
     },
     "output_type": "display_data"
    }
   ],
   "source": [
    "plt.rcParams[\"axes.grid\"] = True\n",
    "\n",
    "nfold = 5\n",
    "skf = StratifiedKFold(n_splits=nfold, shuffle=True, random_state=42)\n",
    "\n",
    "oof = np.zeros(len(train))\n",
    "mean_fpr = np.linspace(0,1,100)\n",
    "cms= []\n",
    "tprs = []\n",
    "aucs = []\n",
    "y_real = []\n",
    "y_proba = []\n",
    "recalls = []\n",
    "roc_aucs = []\n",
    "f1_scores = []\n",
    "accuracies = []\n",
    "precisions = []\n",
    "predictions = np.zeros(len(test))\n",
    "feature_importance_df = pd.DataFrame()\n",
    "\n",
    "i = 1\n",
    "for train_idx, valid_idx in skf.split(train, train.isFraud.values):\n",
    "    print(\"\\nfold {}\".format(i))\n",
    "    trn_data = lgb.Dataset(train.iloc[train_idx][features].values,\n",
    "                                   label=train.iloc[train_idx][target].values\n",
    "                                   )\n",
    "    val_data = lgb.Dataset(train.iloc[valid_idx][features].values,\n",
    "                                   label=train.iloc[valid_idx][target].values\n",
    "                                   )   \n",
    "    \n",
    "    clf = lgb.train(param_lgb, trn_data, num_boost_round = 500, valid_sets = [trn_data, val_data], verbose_eval = 100, early_stopping_rounds = 100)\n",
    "    oof[valid_idx] = clf.predict(train.iloc[valid_idx][features].values) \n",
    "    \n",
    "    predictions += clf.predict(test[features]) / nfold\n",
    "    \n",
    "    # Scores \n",
    "    roc_aucs.append(roc_auc_score(train.iloc[valid_idx][target].values, oof[valid_idx]))\n",
    "    accuracies.append(accuracy_score(train.iloc[valid_idx][target].values, oof[valid_idx].round()))\n",
    "    recalls.append(recall_score(train.iloc[valid_idx][target].values, oof[valid_idx].round()))\n",
    "    precisions.append(precision_score(train.iloc[valid_idx][target].values ,oof[valid_idx].round()))\n",
    "    f1_scores.append(f1_score(train.iloc[valid_idx][target].values, oof[valid_idx].round()))\n",
    "    \n",
    "    # Roc curve by folds\n",
    "    f = plt.figure(1)\n",
    "    fpr, tpr, t = roc_curve(train.iloc[valid_idx][target].values, oof[valid_idx])\n",
    "    tprs.append(interp(mean_fpr, fpr, tpr))\n",
    "    roc_auc = auc(fpr, tpr)\n",
    "    aucs.append(roc_auc)\n",
    "    plt.plot(fpr, tpr, lw=2, alpha=0.3, label='ROC fold %d (AUC = %0.4f)' % (i,roc_auc))\n",
    "    \n",
    "    # Precion recall by folds\n",
    "    g = plt.figure(2)\n",
    "    precision, recall, _ = precision_recall_curve(train.iloc[valid_idx][target].values, oof[valid_idx])\n",
    "    y_real.append(train.iloc[valid_idx][target].values)\n",
    "    y_proba.append(oof[valid_idx])\n",
    "    plt.plot(recall, precision, lw=2, alpha=0.3, label='P|R fold %d' % (i))  \n",
    "    \n",
    "    i= i+1\n",
    "    \n",
    "    # Confusion matrix by folds\n",
    "    cms.append(confusion_matrix(train.iloc[valid_idx][target].values, oof[valid_idx].round()))\n",
    "    \n",
    "    # Features imp\n",
    "    fold_importance_df = pd.DataFrame()\n",
    "    fold_importance_df[\"Feature\"] = features\n",
    "    fold_importance_df[\"importance\"] = clf.feature_importance()\n",
    "    fold_importance_df[\"fold\"] = nfold + 1\n",
    "    feature_importance_df = pd.concat([feature_importance_df, fold_importance_df], axis=0)\n",
    "\n",
    "# Metrics\n",
    "print(\n",
    "        '\\nCV roc score        : {0:.4f}, std: {1:.4f}.'.format(np.mean(roc_aucs), np.std(roc_aucs)),\n",
    "        '\\nCV accuracy score   : {0:.4f}, std: {1:.4f}.'.format(np.mean(accuracies), np.std(accuracies)),\n",
    "        '\\nCV recall score     : {0:.4f}, std: {1:.4f}.'.format(np.mean(recalls), np.std(recalls)),\n",
    "        '\\nCV precision score  : {0:.4f}, std: {1:.4f}.'.format(np.mean(precisions), np.std(precisions)),\n",
    "        '\\nCV f1 score         : {0:.4f}, std: {1:.4f}.'.format(np.mean(f1_scores), np.std(f1_scores))\n",
    ")\n",
    "\n",
    "#ROC \n",
    "f = plt.figure(1)\n",
    "plt.plot([0,1],[0,1],linestyle = '--',lw = 2,color = 'grey')\n",
    "mean_tpr = np.mean(tprs, axis=0)\n",
    "mean_auc = auc(mean_fpr, mean_tpr)\n",
    "plt.plot(mean_fpr, mean_tpr, color='blue',\n",
    "         label=r'Mean ROC (AUC = %0.4f)' % (np.mean(roc_aucs)),lw=2, alpha=1)\n",
    "\n",
    "plt.xlabel('False Positive Rate')\n",
    "plt.ylabel('True Positive Rate')\n",
    "plt.title('LGB ROC curve by folds')\n",
    "plt.legend(loc=\"lower right\")\n",
    "\n",
    "# PR plt\n",
    "g = plt.figure(2)\n",
    "plt.plot([0,1],[1,0],linestyle = '--',lw = 2,color = 'grey')\n",
    "y_real = np.concatenate(y_real)\n",
    "y_proba = np.concatenate(y_proba)\n",
    "precision, recall, _ = precision_recall_curve(y_real, y_proba)\n",
    "plt.plot(recall, precision, color='blue',\n",
    "         label=r'Mean P|R')\n",
    "plt.xlabel('Recall')\n",
    "plt.ylabel('Precision')\n",
    "plt.title('P|R curve by folds')\n",
    "plt.legend(loc=\"lower left\")"
   ]
  },
  {
   "cell_type": "code",
   "execution_count": 8,
   "metadata": {},
   "outputs": [
    {
     "data": {
      "text/plain": [
       "array([0.00048491, 0.0003801 , 0.00085444, ..., 0.0009524 , 0.00132926,\n",
       "       0.0020493 ])"
      ]
     },
     "execution_count": 8,
     "metadata": {},
     "output_type": "execute_result"
    }
   ],
   "source": [
    "predictions"
   ]
  },
  {
   "cell_type": "code",
   "execution_count": 9,
   "metadata": {},
   "outputs": [],
   "source": [
    "sample_submission = pd.read_csv(f'{folder_path}sample_submission.csv', index_col='TransactionID')\n",
    "sample_submission['isFraud'] = predictions\n",
    "sample_submission.to_csv('xbg_bayes_opt.csv')"
   ]
  },
  {
   "cell_type": "code",
   "execution_count": null,
   "metadata": {},
   "outputs": [],
   "source": []
  }
 ],
 "metadata": {
  "kernelspec": {
   "display_name": "Python 3",
   "language": "python",
   "name": "python3"
  },
  "language_info": {
   "codemirror_mode": {
    "name": "ipython",
    "version": 3
   },
   "file_extension": ".py",
   "mimetype": "text/x-python",
   "name": "python",
   "nbconvert_exporter": "python",
   "pygments_lexer": "ipython3",
   "version": "3.7.3"
  }
 },
 "nbformat": 4,
 "nbformat_minor": 4
}
