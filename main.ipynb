{
 "cells": [
  {
   "cell_type": "markdown",
   "metadata": {},
   "source": [
    "## EDA"
   ]
  },
  {
   "cell_type": "code",
   "execution_count": 1,
   "metadata": {},
   "outputs": [],
   "source": [
    "import os\n",
    "import time\n",
    "import datetime\n",
    "import json\n",
    "import gc\n",
    "from numba import jit\n",
    "\n",
    "import numpy as np\n",
    "import pandas as pd\n",
    "from sklearn import preprocessing\n",
    "from sklearn.model_selection import train_test_split, StratifiedKFold,KFold\n",
    "import xgboost as xgb\n",
    "import matplotlib.pyplot as plt\n",
    "import seaborn as sns\n",
    "from bayes_opt import BayesianOptimization\n",
    "import lightgbm as lgb\n",
    "import xgboost as xgb\n",
    "from catboost import CatBoostRegressor, CatBoostClassifier\n",
    "from sklearn import metrics\n",
    "\n",
    "from itertools import product\n",
    "\n",
    "from IPython.display import HTML"
   ]
  },
  {
   "cell_type": "code",
   "execution_count": 2,
   "metadata": {},
   "outputs": [],
   "source": [
    "folder_path = 'data/'\n",
    "train_identity = pd.read_csv(f'{folder_path}train_identity.csv')\n",
    "train_transaction = pd.read_csv(f'{folder_path}train_transaction.csv')\n",
    "test_identity = pd.read_csv(f'{folder_path}test_identity.csv')\n",
    "test_transaction = pd.read_csv(f'{folder_path}test_transaction.csv')\n",
    "sub = pd.read_csv(f'{folder_path}sample_submission.csv')\n",
    "# let's combine the data and work with the whole dataset\n",
    "train = pd.merge(train_transaction, train_identity, on='TransactionID', how='left')\n",
    "test = pd.merge(test_transaction, test_identity, on='TransactionID', how='left')"
   ]
  },
  {
   "cell_type": "code",
   "execution_count": 4,
   "metadata": {},
   "outputs": [
    {
     "data": {
      "text/html": [
       "<div>\n",
       "<style scoped>\n",
       "    .dataframe tbody tr th:only-of-type {\n",
       "        vertical-align: middle;\n",
       "    }\n",
       "\n",
       "    .dataframe tbody tr th {\n",
       "        vertical-align: top;\n",
       "    }\n",
       "\n",
       "    .dataframe thead th {\n",
       "        text-align: right;\n",
       "    }\n",
       "</style>\n",
       "<table border=\"1\" class=\"dataframe\">\n",
       "  <thead>\n",
       "    <tr style=\"text-align: right;\">\n",
       "      <th></th>\n",
       "      <th>TransactionID</th>\n",
       "      <th>isFraud</th>\n",
       "      <th>TransactionDT</th>\n",
       "      <th>TransactionAmt</th>\n",
       "      <th>ProductCD</th>\n",
       "      <th>card1</th>\n",
       "      <th>card2</th>\n",
       "      <th>card3</th>\n",
       "      <th>card4</th>\n",
       "      <th>card5</th>\n",
       "      <th>...</th>\n",
       "      <th>V330</th>\n",
       "      <th>V331</th>\n",
       "      <th>V332</th>\n",
       "      <th>V333</th>\n",
       "      <th>V334</th>\n",
       "      <th>V335</th>\n",
       "      <th>V336</th>\n",
       "      <th>V337</th>\n",
       "      <th>V338</th>\n",
       "      <th>V339</th>\n",
       "    </tr>\n",
       "  </thead>\n",
       "  <tbody>\n",
       "    <tr>\n",
       "      <th>203</th>\n",
       "      <td>2987203</td>\n",
       "      <td>1</td>\n",
       "      <td>89760</td>\n",
       "      <td>445.000</td>\n",
       "      <td>W</td>\n",
       "      <td>18268</td>\n",
       "      <td>583.0</td>\n",
       "      <td>150.0</td>\n",
       "      <td>visa</td>\n",
       "      <td>226.0</td>\n",
       "      <td>...</td>\n",
       "      <td>NaN</td>\n",
       "      <td>NaN</td>\n",
       "      <td>NaN</td>\n",
       "      <td>NaN</td>\n",
       "      <td>NaN</td>\n",
       "      <td>NaN</td>\n",
       "      <td>NaN</td>\n",
       "      <td>NaN</td>\n",
       "      <td>NaN</td>\n",
       "      <td>NaN</td>\n",
       "    </tr>\n",
       "    <tr>\n",
       "      <th>240</th>\n",
       "      <td>2987240</td>\n",
       "      <td>1</td>\n",
       "      <td>90193</td>\n",
       "      <td>37.098</td>\n",
       "      <td>C</td>\n",
       "      <td>13413</td>\n",
       "      <td>103.0</td>\n",
       "      <td>185.0</td>\n",
       "      <td>visa</td>\n",
       "      <td>137.0</td>\n",
       "      <td>...</td>\n",
       "      <td>NaN</td>\n",
       "      <td>NaN</td>\n",
       "      <td>NaN</td>\n",
       "      <td>NaN</td>\n",
       "      <td>NaN</td>\n",
       "      <td>NaN</td>\n",
       "      <td>NaN</td>\n",
       "      <td>NaN</td>\n",
       "      <td>NaN</td>\n",
       "      <td>NaN</td>\n",
       "    </tr>\n",
       "    <tr>\n",
       "      <th>243</th>\n",
       "      <td>2987243</td>\n",
       "      <td>1</td>\n",
       "      <td>90246</td>\n",
       "      <td>37.098</td>\n",
       "      <td>C</td>\n",
       "      <td>13413</td>\n",
       "      <td>103.0</td>\n",
       "      <td>185.0</td>\n",
       "      <td>visa</td>\n",
       "      <td>137.0</td>\n",
       "      <td>...</td>\n",
       "      <td>NaN</td>\n",
       "      <td>NaN</td>\n",
       "      <td>NaN</td>\n",
       "      <td>NaN</td>\n",
       "      <td>NaN</td>\n",
       "      <td>NaN</td>\n",
       "      <td>NaN</td>\n",
       "      <td>NaN</td>\n",
       "      <td>NaN</td>\n",
       "      <td>NaN</td>\n",
       "    </tr>\n",
       "    <tr>\n",
       "      <th>245</th>\n",
       "      <td>2987245</td>\n",
       "      <td>1</td>\n",
       "      <td>90295</td>\n",
       "      <td>37.098</td>\n",
       "      <td>C</td>\n",
       "      <td>13413</td>\n",
       "      <td>103.0</td>\n",
       "      <td>185.0</td>\n",
       "      <td>visa</td>\n",
       "      <td>137.0</td>\n",
       "      <td>...</td>\n",
       "      <td>NaN</td>\n",
       "      <td>NaN</td>\n",
       "      <td>NaN</td>\n",
       "      <td>NaN</td>\n",
       "      <td>NaN</td>\n",
       "      <td>NaN</td>\n",
       "      <td>NaN</td>\n",
       "      <td>NaN</td>\n",
       "      <td>NaN</td>\n",
       "      <td>NaN</td>\n",
       "    </tr>\n",
       "    <tr>\n",
       "      <th>288</th>\n",
       "      <td>2987288</td>\n",
       "      <td>1</td>\n",
       "      <td>90986</td>\n",
       "      <td>155.521</td>\n",
       "      <td>C</td>\n",
       "      <td>16578</td>\n",
       "      <td>545.0</td>\n",
       "      <td>185.0</td>\n",
       "      <td>visa</td>\n",
       "      <td>226.0</td>\n",
       "      <td>...</td>\n",
       "      <td>NaN</td>\n",
       "      <td>NaN</td>\n",
       "      <td>NaN</td>\n",
       "      <td>NaN</td>\n",
       "      <td>NaN</td>\n",
       "      <td>NaN</td>\n",
       "      <td>NaN</td>\n",
       "      <td>NaN</td>\n",
       "      <td>NaN</td>\n",
       "      <td>NaN</td>\n",
       "    </tr>\n",
       "  </tbody>\n",
       "</table>\n",
       "<p>5 rows × 394 columns</p>\n",
       "</div>"
      ],
      "text/plain": [
       "     TransactionID  isFraud  TransactionDT  TransactionAmt ProductCD  card1  \\\n",
       "203        2987203        1          89760         445.000         W  18268   \n",
       "240        2987240        1          90193          37.098         C  13413   \n",
       "243        2987243        1          90246          37.098         C  13413   \n",
       "245        2987245        1          90295          37.098         C  13413   \n",
       "288        2987288        1          90986         155.521         C  16578   \n",
       "\n",
       "     card2  card3 card4  card5  ... V330  V331  V332  V333  V334 V335 V336  \\\n",
       "203  583.0  150.0  visa  226.0  ...  NaN   NaN   NaN   NaN   NaN  NaN  NaN   \n",
       "240  103.0  185.0  visa  137.0  ...  NaN   NaN   NaN   NaN   NaN  NaN  NaN   \n",
       "243  103.0  185.0  visa  137.0  ...  NaN   NaN   NaN   NaN   NaN  NaN  NaN   \n",
       "245  103.0  185.0  visa  137.0  ...  NaN   NaN   NaN   NaN   NaN  NaN  NaN   \n",
       "288  545.0  185.0  visa  226.0  ...  NaN   NaN   NaN   NaN   NaN  NaN  NaN   \n",
       "\n",
       "     V337  V338  V339  \n",
       "203   NaN   NaN   NaN  \n",
       "240   NaN   NaN   NaN  \n",
       "243   NaN   NaN   NaN  \n",
       "245   NaN   NaN   NaN  \n",
       "288   NaN   NaN   NaN  \n",
       "\n",
       "[5 rows x 394 columns]"
      ]
     },
     "execution_count": 4,
     "metadata": {},
     "output_type": "execute_result"
    }
   ],
   "source": [
    "train_transaction[train_transaction.isFraud == 1].head()"
   ]
  },
  {
   "cell_type": "code",
   "execution_count": null,
   "metadata": {},
   "outputs": [],
   "source": [
    "from WOE import *\n",
    "from woe2 import *\n",
    "\n",
    "final_iv, IV = data_vars(train,train.isFraud)"
   ]
  },
  {
   "cell_type": "code",
   "execution_count": 5,
   "metadata": {},
   "outputs": [],
   "source": [
    "SelectedFeatures =  IV[IV.IV > 0.02].VAR_NAME.tolist()"
   ]
  },
  {
   "cell_type": "code",
   "execution_count": 10,
   "metadata": {},
   "outputs": [
    {
     "data": {
      "text/plain": [
       "((590540, 434), (506691, 433))"
      ]
     },
     "execution_count": 10,
     "metadata": {},
     "output_type": "execute_result"
    }
   ],
   "source": [
    "train2.shape, test2.shape"
   ]
  },
  {
   "cell_type": "code",
   "execution_count": 9,
   "metadata": {},
   "outputs": [],
   "source": [
    "CategoricalFeatures = list(filter(lambda x:x in list(train.select_dtypes(include=['O']).columns),SelectedFeatures))\n",
    "ContinuousFeatures = list(filter(lambda x:x not in list(train.select_dtypes(include=['O']).columns),SelectedFeatures))\n",
    "ConvertCategorical = ConvertCategoricalFeatures(\"isFraud\",CategoricalFeatures)\n",
    "ConvertCategorical.train(train)\n",
    "ConvertContinuous = ConvertContinuousFeatures(\"isFraud\",ContinuousFeatures,10)\n",
    "ConvertContinuous.train(train)\n",
    "train2 = ConvertCategorical.transform(train)\n",
    "train2 = ConvertContinuous.transform(train2)\n",
    "test2 = ConvertCategorical.transform(test)\n",
    "test2 = ConvertContinuous.transform(test2)"
   ]
  },
  {
   "cell_type": "code",
   "execution_count": null,
   "metadata": {},
   "outputs": [],
   "source": [
    "for col, values in train_transaction[train_transaction.isFraud == 1].iteritems():\n",
    "    num_uniques = values.nunique()\n",
    "    print ('{name}: {num_unique}'.format(name=col, num_unique=num_uniques))\n",
    "    print (values.unique())\n",
    "    print ('\\n')"
   ]
  },
  {
   "cell_type": "code",
   "execution_count": 38,
   "metadata": {},
   "outputs": [],
   "source": [
    "#cut tr and val\n",
    "tr_idx, val_idx = train_test_split(train, test_size = 0.3, random_state = 87, stratify = train['isFraud'])"
   ]
  },
  {
   "cell_type": "code",
   "execution_count": 41,
   "metadata": {},
   "outputs": [],
   "source": [
    "tr_idx = tr_idx.index\n",
    "val_idx = val_idx.index"
   ]
  },
  {
   "cell_type": "markdown",
   "metadata": {},
   "source": [
    "## Simple XGB"
   ]
  },
  {
   "cell_type": "code",
   "execution_count": 80,
   "metadata": {},
   "outputs": [],
   "source": [
    "y_train = train.isFraud\n",
    "X_train = train.drop('isFraud', axis=1)\n",
    "X_test = test.copy()"
   ]
  },
  {
   "cell_type": "code",
   "execution_count": 81,
   "metadata": {},
   "outputs": [],
   "source": [
    "X_train = X_train.fillna(-999)\n",
    "X_test = X_test.fillna(-999)\n",
    "# Label Encoding\n",
    "for f in X_train.columns:\n",
    "    if X_train[f].dtype=='object' or X_test[f].dtype=='object': \n",
    "        lbl = preprocessing.LabelEncoder()\n",
    "        lbl.fit(list(X_train[f].values) + list(X_test[f].values))\n",
    "        X_train[f] = lbl.transform(list(X_train[f].values))\n",
    "        X_test[f] = lbl.transform(list(X_test[f].values))   "
   ]
  },
  {
   "cell_type": "code",
   "execution_count": 53,
   "metadata": {},
   "outputs": [
    {
     "data": {
      "text/plain": [
       "Int64Index([506347, 377863,  27133,  68424, 481102, 452875, 437524, 471476,\n",
       "            228760,  86640,\n",
       "            ...\n",
       "            121676, 356189, 442469, 138974, 428712, 319420, 410637, 253692,\n",
       "            137909,  58306],\n",
       "           dtype='int64', length=413378)"
      ]
     },
     "execution_count": 53,
     "metadata": {},
     "output_type": "execute_result"
    }
   ],
   "source": [
    "tr_idx"
   ]
  },
  {
   "cell_type": "code",
   "execution_count": 58,
   "metadata": {},
   "outputs": [],
   "source": [
    "X_train_tr = X_train[X_train.index.isin(tr_idx)]\n",
    "X_train_val = X_train[X_train.index.isin(val_idx)]\n",
    "y_train_tr = y_train[y_train.index.isin(tr_idx)]\n",
    "y_train_val = y_train[y_train.index.isin(val_idx)]"
   ]
  },
  {
   "cell_type": "code",
   "execution_count": null,
   "metadata": {},
   "outputs": [
    {
     "name": "stdout",
     "output_type": "stream",
     "text": [
      "[0]\tvalidation_0-auc:0.778701\tvalidation_1-auc:0.776197\n",
      "Multiple eval metrics have been passed: 'validation_1-auc' will be used for early stopping.\n",
      "\n",
      "Will train until validation_1-auc hasn't improved in 50 rounds.\n",
      "[20]\tvalidation_0-auc:0.840296\tvalidation_1-auc:0.836135\n",
      "[40]\tvalidation_0-auc:0.866693\tvalidation_1-auc:0.862033\n",
      "[60]\tvalidation_0-auc:0.889208\tvalidation_1-auc:0.88311\n",
      "[80]\tvalidation_0-auc:0.901699\tvalidation_1-auc:0.893806\n",
      "[100]\tvalidation_0-auc:0.910865\tvalidation_1-auc:0.900809\n",
      "[120]\tvalidation_0-auc:0.919003\tvalidation_1-auc:0.907459\n",
      "[140]\tvalidation_0-auc:0.924548\tvalidation_1-auc:0.912186\n",
      "[160]\tvalidation_0-auc:0.929027\tvalidation_1-auc:0.91584\n",
      "[180]\tvalidation_0-auc:0.932154\tvalidation_1-auc:0.918376\n",
      "[200]\tvalidation_0-auc:0.934761\tvalidation_1-auc:0.920581\n",
      "[220]\tvalidation_0-auc:0.936945\tvalidation_1-auc:0.92222\n",
      "[240]\tvalidation_0-auc:0.939457\tvalidation_1-auc:0.924458\n",
      "[260]\tvalidation_0-auc:0.941396\tvalidation_1-auc:0.925842\n",
      "[280]\tvalidation_0-auc:0.943248\tvalidation_1-auc:0.92733\n",
      "[300]\tvalidation_0-auc:0.945651\tvalidation_1-auc:0.929232\n",
      "[320]\tvalidation_0-auc:0.947369\tvalidation_1-auc:0.930539\n",
      "[340]\tvalidation_0-auc:0.949061\tvalidation_1-auc:0.931656\n",
      "[360]\tvalidation_0-auc:0.950429\tvalidation_1-auc:0.932584\n",
      "[380]\tvalidation_0-auc:0.951657\tvalidation_1-auc:0.933626\n",
      "[400]\tvalidation_0-auc:0.952652\tvalidation_1-auc:0.934367\n",
      "[420]\tvalidation_0-auc:0.954107\tvalidation_1-auc:0.935465\n",
      "[440]\tvalidation_0-auc:0.955325\tvalidation_1-auc:0.936441\n",
      "[460]\tvalidation_0-auc:0.956567\tvalidation_1-auc:0.937328\n",
      "[480]\tvalidation_0-auc:0.957787\tvalidation_1-auc:0.938315\n",
      "[500]\tvalidation_0-auc:0.958637\tvalidation_1-auc:0.939022\n",
      "[520]\tvalidation_0-auc:0.959908\tvalidation_1-auc:0.93999\n",
      "[540]\tvalidation_0-auc:0.961011\tvalidation_1-auc:0.940894\n",
      "[560]\tvalidation_0-auc:0.96185\tvalidation_1-auc:0.941533\n",
      "[580]\tvalidation_0-auc:0.962658\tvalidation_1-auc:0.942134\n",
      "[600]\tvalidation_0-auc:0.963761\tvalidation_1-auc:0.942924\n",
      "[620]\tvalidation_0-auc:0.964626\tvalidation_1-auc:0.943525\n",
      "[640]\tvalidation_0-auc:0.965572\tvalidation_1-auc:0.944142\n",
      "[660]\tvalidation_0-auc:0.966367\tvalidation_1-auc:0.944761\n",
      "[680]\tvalidation_0-auc:0.967553\tvalidation_1-auc:0.945695\n",
      "[700]\tvalidation_0-auc:0.968271\tvalidation_1-auc:0.946259\n",
      "[720]\tvalidation_0-auc:0.969058\tvalidation_1-auc:0.946833\n",
      "[740]\tvalidation_0-auc:0.969672\tvalidation_1-auc:0.947318\n",
      "[760]\tvalidation_0-auc:0.970505\tvalidation_1-auc:0.948069\n",
      "[780]\tvalidation_0-auc:0.971098\tvalidation_1-auc:0.94853\n",
      "[800]\tvalidation_0-auc:0.971773\tvalidation_1-auc:0.949107\n",
      "[820]\tvalidation_0-auc:0.972355\tvalidation_1-auc:0.949518\n",
      "[840]\tvalidation_0-auc:0.973139\tvalidation_1-auc:0.950228\n",
      "[860]\tvalidation_0-auc:0.973771\tvalidation_1-auc:0.950651\n",
      "[880]\tvalidation_0-auc:0.974474\tvalidation_1-auc:0.951243\n",
      "[900]\tvalidation_0-auc:0.975104\tvalidation_1-auc:0.951788\n",
      "[920]\tvalidation_0-auc:0.975749\tvalidation_1-auc:0.952218\n",
      "[940]\tvalidation_0-auc:0.976421\tvalidation_1-auc:0.952618\n",
      "[960]\tvalidation_0-auc:0.976876\tvalidation_1-auc:0.952889\n",
      "[980]\tvalidation_0-auc:0.977418\tvalidation_1-auc:0.953237\n",
      "[1000]\tvalidation_0-auc:0.977978\tvalidation_1-auc:0.953639\n",
      "[1020]\tvalidation_0-auc:0.978442\tvalidation_1-auc:0.953931\n"
     ]
    }
   ],
   "source": [
    "xgb_raw = xgb.XGBClassifier(\n",
    "    #objective ='binary:logistic',\n",
    "    n_estimators=5000,\n",
    "    max_depth=6,\n",
    "    learning_rate=0.05,\n",
    "    subsample=0.9,\n",
    "    colsample_bytree=0.9,\n",
    "    missing=-999,\n",
    "    nthread=10,\n",
    "    eval_metric=[\"auc\"])\n",
    "\n",
    "xgb_raw.fit(X_train_tr,\n",
    "           y_train_tr,\n",
    "           eval_set=[(X_train_tr, y_train_tr),\n",
    "                     (X_train_val, y_train_val)],\n",
    "           early_stopping_rounds = 50,\n",
    "           verbose=20\n",
    "          )"
   ]
  },
  {
   "cell_type": "code",
   "execution_count": 65,
   "metadata": {},
   "outputs": [
    {
     "data": {
      "text/plain": [
       "0.971037"
      ]
     },
     "execution_count": 65,
     "metadata": {},
     "output_type": "execute_result"
    }
   ],
   "source": [
    "xgb_raw.best_score"
   ]
  },
  {
   "cell_type": "code",
   "execution_count": 59,
   "metadata": {},
   "outputs": [],
   "source": [
    "clf = xgb.XGBClassifier(\n",
    "    n_estimators=500,\n",
    "    max_depth=6,\n",
    "    learning_rate=0.05,\n",
    "    subsample=0.9,\n",
    "    colsample_bytree=0.9,\n",
    "    missing=-999,\n",
    "    nthread=10\n",
    "    #tree_method='gpu_hist'  # THE MAGICAL PARAMETER\n",
    ")"
   ]
  },
  {
   "cell_type": "code",
   "execution_count": 11,
   "metadata": {},
   "outputs": [
    {
     "name": "stdout",
     "output_type": "stream",
     "text": [
      "CPU times: user 2h 26min 58s, sys: 6min 24s, total: 2h 33min 22s\n",
      "Wall time: 19min 22s\n"
     ]
    },
    {
     "data": {
      "text/plain": [
       "XGBClassifier(base_score=0.5, booster='gbtree', colsample_bylevel=1,\n",
       "       colsample_bynode=1, colsample_bytree=0.9, gamma=0,\n",
       "       learning_rate=0.05, max_delta_step=0, max_depth=6,\n",
       "       min_child_weight=1, missing=-999, n_estimators=500, n_jobs=1,\n",
       "       nthread=10, objective='binary:logistic', random_state=0,\n",
       "       reg_alpha=0, reg_lambda=1, scale_pos_weight=1, seed=None,\n",
       "       silent=None, subsample=0.9, verbosity=1)"
      ]
     },
     "execution_count": 11,
     "metadata": {},
     "output_type": "execute_result"
    }
   ],
   "source": [
    "%time clf.fit(X_train, \n",
    "              y_train, \n",
    "              eval_set=None, eval_metric=None\n",
    "              early_stopping_rounds = 100)"
   ]
  },
  {
   "cell_type": "code",
   "execution_count": 69,
   "metadata": {},
   "outputs": [
    {
     "data": {
      "text/plain": [
       "(10000, 434)"
      ]
     },
     "execution_count": 69,
     "metadata": {},
     "output_type": "execute_result"
    }
   ],
   "source": [
    "test.shape"
   ]
  },
  {
   "cell_type": "code",
   "execution_count": 82,
   "metadata": {},
   "outputs": [],
   "source": [
    "sample_submission = pd.read_csv(f'{folder_path}sample_submission.csv', index_col='TransactionID')\n",
    "sample_submission['isFraud'] = xgb_raw.predict_proba(X_test)[:,1]\n",
    "sample_submission.to_csv('xgb_raw_4000r.csv')"
   ]
  },
  {
   "cell_type": "markdown",
   "metadata": {},
   "source": [
    "## XGB with WOE "
   ]
  },
  {
   "cell_type": "code",
   "execution_count": 11,
   "metadata": {},
   "outputs": [],
   "source": [
    "y_train = train2.isFraud\n",
    "X_train = train2.drop('isFraud', axis=1)\n",
    "X_test = test2.copy()\n",
    "\n",
    "X_train = X_train.fillna(-999)\n",
    "X_test = X_test.fillna(-999)\n",
    "# Label Encoding\n",
    "for f in X_train.columns:\n",
    "    if X_train[f].dtype=='object' or X_test[f].dtype=='object': \n",
    "        lbl = preprocessing.LabelEncoder()\n",
    "        lbl.fit(list(X_train[f].values) + list(X_test[f].values))\n",
    "        X_train[f] = lbl.transform(list(X_train[f].values))\n",
    "        X_test[f] = lbl.transform(list(X_test[f].values))   "
   ]
  },
  {
   "cell_type": "code",
   "execution_count": null,
   "metadata": {},
   "outputs": [],
   "source": [
    "clf = xgb.XGBClassifier(\n",
    "    n_estimators=500,\n",
    "    max_depth=6,\n",
    "    learning_rate=0.05,\n",
    "    subsample=0.9,\n",
    "    colsample_bytree=0.9,\n",
    "    missing=-999,\n",
    "    nthread=10\n",
    "    #tree_method='gpu_hist'  # THE MAGICAL PARAMETER\n",
    ")"
   ]
  },
  {
   "cell_type": "code",
   "execution_count": null,
   "metadata": {},
   "outputs": [],
   "source": []
  },
  {
   "cell_type": "markdown",
   "metadata": {},
   "source": [
    "## LGBM with Bayes Opt"
   ]
  },
  {
   "cell_type": "code",
   "execution_count": 13,
   "metadata": {},
   "outputs": [],
   "source": [
    "#  Libraries\n",
    "import numpy as np \n",
    "import pandas as pd \n",
    "# Data processing, metrics and modeling\n",
    "from sklearn.preprocessing import LabelEncoder\n",
    "from sklearn.model_selection import train_test_split, StratifiedKFold,KFold\n",
    "from bayes_opt import BayesianOptimization\n",
    "from datetime import datetime\n",
    "from sklearn.metrics import precision_score, recall_score, confusion_matrix, accuracy_score, roc_auc_score, f1_score, roc_curve, auc,precision_recall_curve\n",
    "from sklearn import metrics\n",
    "from sklearn import preprocessing\n",
    "# Lgbm\n",
    "import lightgbm as lgb\n",
    "# Suppr warning\n",
    "import warnings\n",
    "warnings.filterwarnings(\"ignore\")\n",
    "\n",
    "import itertools\n",
    "from scipy import interp\n",
    "\n",
    "# Plots\n",
    "import seaborn as sns\n",
    "import matplotlib.pyplot as plt\n",
    "%matplotlib inline\n",
    "from matplotlib import rcParams"
   ]
  },
  {
   "cell_type": "code",
   "execution_count": 14,
   "metadata": {},
   "outputs": [],
   "source": [
    "features = list(train2)\n",
    "features.remove('isFraud')\n",
    "target = 'isFraud'"
   ]
  },
  {
   "cell_type": "code",
   "execution_count": 15,
   "metadata": {},
   "outputs": [],
   "source": [
    "train = train2.fillna(-999)\n",
    "test = test2.fillna(-999)\n",
    "for f in features:\n",
    "    if train[f].dtype=='object' or test[f].dtype=='object':\n",
    "        lbl = preprocessing.LabelEncoder()\n",
    "        lbl.fit(list(train[f].values) + list(test[f].values))\n",
    "        train[f] = lbl.transform(list(train[f].values))\n",
    "        test[f] = lbl.transform(list(test[f].values))\n"
   ]
  },
  {
   "cell_type": "code",
   "execution_count": 16,
   "metadata": {},
   "outputs": [],
   "source": [
    "#cut tr and val\n",
    "bayesian_tr_idx, bayesian_val_idx = train_test_split(train, test_size = 0.3, random_state = 87, stratify = train[target])\n",
    "bayesian_tr_idx = bayesian_tr_idx.index\n",
    "bayesian_val_idx = bayesian_val_idx.index"
   ]
  },
  {
   "cell_type": "code",
   "execution_count": 17,
   "metadata": {},
   "outputs": [],
   "source": [
    "def LGB_bayesian(\n",
    "    #learning_rate,\n",
    "    num_leaves, \n",
    "    bagging_fraction,\n",
    "    feature_fraction,\n",
    "    min_child_samples, \n",
    "    min_child_weight,\n",
    "    subsample, \n",
    "    min_data_in_leaf,\n",
    "    max_depth,\n",
    "    colsample_bytree,\n",
    "    reg_alpha,\n",
    "    reg_lambda\n",
    "     ):\n",
    "    \n",
    "    # LightGBM expects next three parameters need to be integer. \n",
    "    num_leaves = int(num_leaves)\n",
    "    min_data_in_leaf = int(min_data_in_leaf)\n",
    "    max_depth = int(max_depth)\n",
    "\n",
    "    assert type(num_leaves) == int\n",
    "    assert type(min_data_in_leaf) == int\n",
    "    assert type(max_depth) == int\n",
    "    \n",
    "\n",
    "    param = {\n",
    "              'num_leaves': num_leaves, \n",
    "              'min_child_samples': min_child_samples, \n",
    "              'min_data_in_leaf': min_data_in_leaf,\n",
    "              'min_child_weight': min_child_weight,\n",
    "              'bagging_fraction' : bagging_fraction,\n",
    "              'feature_fraction' : feature_fraction,\n",
    "              #'learning_rate' : learning_rate,\n",
    "              'subsample': subsample, \n",
    "              'max_depth': max_depth,\n",
    "              'colsample_bytree': colsample_bytree,\n",
    "              'reg_alpha': reg_alpha,\n",
    "              'reg_lambda': reg_lambda,\n",
    "              'objective': 'binary',\n",
    "              'save_binary': True,\n",
    "              'seed': 1337,\n",
    "              'feature_fraction_seed': 1337,\n",
    "              'bagging_seed': 1337,\n",
    "              'drop_seed': 1337,\n",
    "              'data_random_seed': 1337,\n",
    "              'boosting_type': 'gbdt',\n",
    "              'verbose': 1,\n",
    "              'is_unbalance': False,\n",
    "              'boost_from_average': True,\n",
    "              'metric':'auc'}    \n",
    "    \n",
    "    oof = np.zeros(len(train))\n",
    "    trn_data= lgb.Dataset(train.iloc[bayesian_tr_idx][features].values, label=train.iloc[bayesian_tr_idx][target].values)\n",
    "    val_data= lgb.Dataset(train.iloc[bayesian_val_idx][features].values, label=train.iloc[bayesian_val_idx][target].values)\n",
    "\n",
    "    clf = lgb.train(param, trn_data,  num_boost_round=50, valid_sets = [trn_data, val_data], verbose_eval=0, early_stopping_rounds = 50)\n",
    "    \n",
    "    oof[bayesian_val_idx]  = clf.predict(train.iloc[bayesian_val_idx][features].values, num_iteration=clf.best_iteration)  \n",
    "    \n",
    "    score = roc_auc_score(train.iloc[bayesian_val_idx][target].values, oof[bayesian_val_idx])\n",
    "\n",
    "    return score"
   ]
  },
  {
   "cell_type": "code",
   "execution_count": 18,
   "metadata": {},
   "outputs": [],
   "source": [
    "# Bounded region of parameter space\n",
    "bounds_LGB = {\n",
    "    'num_leaves': (31, 500), \n",
    "    'min_data_in_leaf': (20, 200),\n",
    "    'bagging_fraction' : (0.1,0.9),\n",
    "    'feature_fraction' : (0.1,0.9),\n",
    "    #'learning_rate': (0.01, 0.3),\n",
    "    'min_child_weight': (0.00001, 0.01),   \n",
    "    'min_child_samples':(100, 500), \n",
    "    'subsample': (0.2, 0.8),\n",
    "    'colsample_bytree': (0.4, 0.6), \n",
    "    'reg_alpha': (1, 2), \n",
    "    'reg_lambda': (1, 2),\n",
    "    'max_depth':(-1,50),\n",
    "}"
   ]
  },
  {
   "cell_type": "code",
   "execution_count": 19,
   "metadata": {},
   "outputs": [],
   "source": [
    "LGB_BO = BayesianOptimization(LGB_bayesian, bounds_LGB, random_state=87)"
   ]
  },
  {
   "cell_type": "code",
   "execution_count": 20,
   "metadata": {},
   "outputs": [
    {
     "name": "stdout",
     "output_type": "stream",
     "text": [
      "['bagging_fraction', 'colsample_bytree', 'feature_fraction', 'max_depth', 'min_child_samples', 'min_child_weight', 'min_data_in_leaf', 'num_leaves', 'reg_alpha', 'reg_lambda', 'subsample']\n"
     ]
    }
   ],
   "source": [
    "print(LGB_BO.space.keys)"
   ]
  },
  {
   "cell_type": "code",
   "execution_count": 21,
   "metadata": {},
   "outputs": [],
   "source": [
    "init_points = 10\n",
    "n_iter = 15"
   ]
  },
  {
   "cell_type": "code",
   "execution_count": 22,
   "metadata": {},
   "outputs": [
    {
     "name": "stdout",
     "output_type": "stream",
     "text": [
      "----------------------------------------------------------------------------------------------------------------------------------\n",
      "|   iter    |  target   | baggin... | colsam... | featur... | max_depth | min_ch... | min_ch... | min_da... | num_le... | reg_alpha | reg_la... | subsample |\n",
      "-------------------------------------------------------------------------------------------------------------------------------------------------------------\n",
      "| \u001b[0m 1       \u001b[0m | \u001b[0m 0.881   \u001b[0m | \u001b[0m 0.625   \u001b[0m | \u001b[0m 0.591   \u001b[0m | \u001b[0m 0.8767  \u001b[0m | \u001b[0m 3.989   \u001b[0m | \u001b[0m 196.3   \u001b[0m | \u001b[0m 0.008688\u001b[0m | \u001b[0m 118.5   \u001b[0m | \u001b[0m 368.3   \u001b[0m | \u001b[0m 1.926   \u001b[0m | \u001b[0m 1.617   \u001b[0m | \u001b[0m 0.6001  \u001b[0m |\n",
      "| \u001b[95m 2       \u001b[0m | \u001b[95m 0.9497  \u001b[0m | \u001b[95m 0.3671  \u001b[0m | \u001b[95m 0.4366  \u001b[0m | \u001b[95m 0.39    \u001b[0m | \u001b[95m 19.49   \u001b[0m | \u001b[95m 404.8   \u001b[0m | \u001b[95m 0.002675\u001b[0m | \u001b[95m 68.08   \u001b[0m | \u001b[95m 488.8   \u001b[0m | \u001b[95m 1.062   \u001b[0m | \u001b[95m 1.419   \u001b[0m | \u001b[95m 0.4107  \u001b[0m |\n",
      "| \u001b[0m 3       \u001b[0m | \u001b[0m 0.9435  \u001b[0m | \u001b[0m 0.1716  \u001b[0m | \u001b[0m 0.4395  \u001b[0m | \u001b[0m 0.8527  \u001b[0m | \u001b[0m-0.4612  \u001b[0m | \u001b[0m 174.4   \u001b[0m | \u001b[0m 0.009855\u001b[0m | \u001b[0m 81.25   \u001b[0m | \u001b[0m 184.1   \u001b[0m | \u001b[0m 1.654   \u001b[0m | \u001b[0m 1.022   \u001b[0m | \u001b[0m 0.3152  \u001b[0m |\n",
      "| \u001b[0m 4       \u001b[0m | \u001b[0m 0.9426  \u001b[0m | \u001b[0m 0.862   \u001b[0m | \u001b[0m 0.5501  \u001b[0m | \u001b[0m 0.2816  \u001b[0m | \u001b[0m 31.53   \u001b[0m | \u001b[0m 112.8   \u001b[0m | \u001b[0m 0.004128\u001b[0m | \u001b[0m 190.5   \u001b[0m | \u001b[0m 388.1   \u001b[0m | \u001b[0m 1.462   \u001b[0m | \u001b[0m 1.358   \u001b[0m | \u001b[0m 0.3631  \u001b[0m |\n",
      "| \u001b[0m 5       \u001b[0m | \u001b[0m 0.9355  \u001b[0m | \u001b[0m 0.2312  \u001b[0m | \u001b[0m 0.5298  \u001b[0m | \u001b[0m 0.66    \u001b[0m | \u001b[0m 37.43   \u001b[0m | \u001b[0m 473.6   \u001b[0m | \u001b[0m 0.006186\u001b[0m | \u001b[0m 145.7   \u001b[0m | \u001b[0m 128.2   \u001b[0m | \u001b[0m 1.013   \u001b[0m | \u001b[0m 1.891   \u001b[0m | \u001b[0m 0.7083  \u001b[0m |\n",
      "| \u001b[0m 6       \u001b[0m | \u001b[0m 0.9277  \u001b[0m | \u001b[0m 0.7568  \u001b[0m | \u001b[0m 0.5606  \u001b[0m | \u001b[0m 0.4765  \u001b[0m | \u001b[0m 19.82   \u001b[0m | \u001b[0m 190.2   \u001b[0m | \u001b[0m 0.003066\u001b[0m | \u001b[0m 69.62   \u001b[0m | \u001b[0m 91.44   \u001b[0m | \u001b[0m 1.265   \u001b[0m | \u001b[0m 1.049   \u001b[0m | \u001b[0m 0.4725  \u001b[0m |\n",
      "| \u001b[0m 7       \u001b[0m | \u001b[0m 0.9473  \u001b[0m | \u001b[0m 0.4463  \u001b[0m | \u001b[0m 0.5177  \u001b[0m | \u001b[0m 0.5857  \u001b[0m | \u001b[0m 23.81   \u001b[0m | \u001b[0m 177.3   \u001b[0m | \u001b[0m 0.006355\u001b[0m | \u001b[0m 83.62   \u001b[0m | \u001b[0m 288.2   \u001b[0m | \u001b[0m 1.256   \u001b[0m | \u001b[0m 1.605   \u001b[0m | \u001b[0m 0.3064  \u001b[0m |\n",
      "| \u001b[0m 8       \u001b[0m | \u001b[0m 0.9486  \u001b[0m | \u001b[0m 0.8814  \u001b[0m | \u001b[0m 0.4199  \u001b[0m | \u001b[0m 0.4823  \u001b[0m | \u001b[0m 22.89   \u001b[0m | \u001b[0m 103.6   \u001b[0m | \u001b[0m 0.004909\u001b[0m | \u001b[0m 26.29   \u001b[0m | \u001b[0m 417.1   \u001b[0m | \u001b[0m 1.488   \u001b[0m | \u001b[0m 1.827   \u001b[0m | \u001b[0m 0.7021  \u001b[0m |\n",
      "| \u001b[0m 9       \u001b[0m | \u001b[0m 0.9447  \u001b[0m | \u001b[0m 0.8422  \u001b[0m | \u001b[0m 0.508   \u001b[0m | \u001b[0m 0.8229  \u001b[0m | \u001b[0m 25.82   \u001b[0m | \u001b[0m 121.3   \u001b[0m | \u001b[0m 0.003158\u001b[0m | \u001b[0m 185.8   \u001b[0m | \u001b[0m 211.5   \u001b[0m | \u001b[0m 1.015   \u001b[0m | \u001b[0m 1.035   \u001b[0m | \u001b[0m 0.2227  \u001b[0m |\n",
      "| \u001b[0m 10      \u001b[0m | \u001b[0m 0.9445  \u001b[0m | \u001b[0m 0.8412  \u001b[0m | \u001b[0m 0.5646  \u001b[0m | \u001b[0m 0.3652  \u001b[0m | \u001b[0m 22.5    \u001b[0m | \u001b[0m 309.6   \u001b[0m | \u001b[0m 0.001886\u001b[0m | \u001b[0m 189.5   \u001b[0m | \u001b[0m 363.9   \u001b[0m | \u001b[0m 1.649   \u001b[0m | \u001b[0m 1.277   \u001b[0m | \u001b[0m 0.4311  \u001b[0m |\n",
      "| \u001b[0m 11      \u001b[0m | \u001b[0m 0.9268  \u001b[0m | \u001b[0m 0.1     \u001b[0m | \u001b[0m 0.4     \u001b[0m | \u001b[0m 0.1     \u001b[0m | \u001b[0m 50.0    \u001b[0m | \u001b[0m 500.0   \u001b[0m | \u001b[0m 1e-05   \u001b[0m | \u001b[0m 200.0   \u001b[0m | \u001b[0m 500.0   \u001b[0m | \u001b[0m 1.0     \u001b[0m | \u001b[0m 1.0     \u001b[0m | \u001b[0m 0.2     \u001b[0m |\n",
      "| \u001b[0m 12      \u001b[0m | \u001b[0m 0.9241  \u001b[0m | \u001b[0m 0.3765  \u001b[0m | \u001b[0m 0.5645  \u001b[0m | \u001b[0m 0.1     \u001b[0m | \u001b[0m 50.0    \u001b[0m | \u001b[0m 500.0   \u001b[0m | \u001b[0m 0.01    \u001b[0m | \u001b[0m 20.0    \u001b[0m | \u001b[0m 294.9   \u001b[0m | \u001b[0m 2.0     \u001b[0m | \u001b[0m 1.136   \u001b[0m | \u001b[0m 0.2     \u001b[0m |\n",
      "| \u001b[0m 13      \u001b[0m | \u001b[0m 0.9404  \u001b[0m | \u001b[0m 0.456   \u001b[0m | \u001b[0m 0.6     \u001b[0m | \u001b[0m 0.7586  \u001b[0m | \u001b[0m 50.0    \u001b[0m | \u001b[0m 100.0   \u001b[0m | \u001b[0m 1e-05   \u001b[0m | \u001b[0m 20.0    \u001b[0m | \u001b[0m 157.1   \u001b[0m | \u001b[0m 2.0     \u001b[0m | \u001b[0m 1.0     \u001b[0m | \u001b[0m 0.8     \u001b[0m |\n",
      "| \u001b[0m 14      \u001b[0m | \u001b[0m 0.9089  \u001b[0m | \u001b[0m 0.4407  \u001b[0m | \u001b[0m 0.5256  \u001b[0m | \u001b[0m 0.6633  \u001b[0m | \u001b[0m-0.9378  \u001b[0m | \u001b[0m 495.8   \u001b[0m | \u001b[0m 0.004279\u001b[0m | \u001b[0m 25.46   \u001b[0m | \u001b[0m 32.79   \u001b[0m | \u001b[0m 1.25    \u001b[0m | \u001b[0m 1.463   \u001b[0m | \u001b[0m 0.4738  \u001b[0m |\n",
      "| \u001b[0m 15      \u001b[0m | \u001b[0m 0.932   \u001b[0m | \u001b[0m 0.2186  \u001b[0m | \u001b[0m 0.4     \u001b[0m | \u001b[0m 0.1     \u001b[0m | \u001b[0m 50.0    \u001b[0m | \u001b[0m 231.2   \u001b[0m | \u001b[0m 1e-05   \u001b[0m | \u001b[0m 20.0    \u001b[0m | \u001b[0m 500.0   \u001b[0m | \u001b[0m 1.0     \u001b[0m | \u001b[0m 1.0     \u001b[0m | \u001b[0m 0.2     \u001b[0m |\n",
      "| \u001b[0m 16      \u001b[0m | \u001b[0m 0.8922  \u001b[0m | \u001b[0m 0.9     \u001b[0m | \u001b[0m 0.6     \u001b[0m | \u001b[0m 0.1     \u001b[0m | \u001b[0m 50.0    \u001b[0m | \u001b[0m 366.2   \u001b[0m | \u001b[0m 0.01    \u001b[0m | \u001b[0m 200.0   \u001b[0m | \u001b[0m 31.0    \u001b[0m | \u001b[0m 2.0     \u001b[0m | \u001b[0m 2.0     \u001b[0m | \u001b[0m 0.8     \u001b[0m |\n",
      "| \u001b[0m 17      \u001b[0m | \u001b[0m 0.936   \u001b[0m | \u001b[0m 0.2074  \u001b[0m | \u001b[0m 0.4089  \u001b[0m | \u001b[0m 0.4913  \u001b[0m | \u001b[0m 49.02   \u001b[0m | \u001b[0m 349.7   \u001b[0m | \u001b[0m 0.006637\u001b[0m | \u001b[0m 20.01   \u001b[0m | \u001b[0m 152.6   \u001b[0m | \u001b[0m 1.806   \u001b[0m | \u001b[0m 1.861   \u001b[0m | \u001b[0m 0.3739  \u001b[0m |\n",
      "| \u001b[0m 18      \u001b[0m | \u001b[0m 0.9496  \u001b[0m | \u001b[0m 0.5494  \u001b[0m | \u001b[0m 0.4726  \u001b[0m | \u001b[0m 0.4338  \u001b[0m | \u001b[0m 49.87   \u001b[0m | \u001b[0m 495.8   \u001b[0m | \u001b[0m 0.004002\u001b[0m | \u001b[0m 22.66   \u001b[0m | \u001b[0m 486.3   \u001b[0m | \u001b[0m 1.826   \u001b[0m | \u001b[0m 1.445   \u001b[0m | \u001b[0m 0.5036  \u001b[0m |\n",
      "| \u001b[0m 19      \u001b[0m | \u001b[0m 0.9413  \u001b[0m | \u001b[0m 0.6386  \u001b[0m | \u001b[0m 0.413   \u001b[0m | \u001b[0m 0.2921  \u001b[0m | \u001b[0m-0.5898  \u001b[0m | \u001b[0m 497.8   \u001b[0m | \u001b[0m 0.007729\u001b[0m | \u001b[0m 188.5   \u001b[0m | \u001b[0m 286.0   \u001b[0m | \u001b[0m 1.325   \u001b[0m | \u001b[0m 1.737   \u001b[0m | \u001b[0m 0.7453  \u001b[0m |\n",
      "| \u001b[95m 20      \u001b[0m | \u001b[95m 0.9513  \u001b[0m | \u001b[95m 0.3856  \u001b[0m | \u001b[95m 0.42    \u001b[0m | \u001b[95m 0.6447  \u001b[0m | \u001b[95m 46.35   \u001b[0m | \u001b[95m 109.1   \u001b[0m | \u001b[95m 0.009463\u001b[0m | \u001b[95m 172.4   \u001b[0m | \u001b[95m 495.5   \u001b[0m | \u001b[95m 1.202   \u001b[0m | \u001b[95m 1.525   \u001b[0m | \u001b[95m 0.6489  \u001b[0m |\n",
      "| \u001b[0m 21      \u001b[0m | \u001b[0m 0.9297  \u001b[0m | \u001b[0m 0.4707  \u001b[0m | \u001b[0m 0.5262  \u001b[0m | \u001b[0m 0.155   \u001b[0m | \u001b[0m 48.22   \u001b[0m | \u001b[0m 356.4   \u001b[0m | \u001b[0m 0.008258\u001b[0m | \u001b[0m 200.0   \u001b[0m | \u001b[0m 229.4   \u001b[0m | \u001b[0m 1.48    \u001b[0m | \u001b[0m 1.871   \u001b[0m | \u001b[0m 0.7906  \u001b[0m |\n",
      "| \u001b[0m 22      \u001b[0m | \u001b[0m 0.9025  \u001b[0m | \u001b[0m 0.8426  \u001b[0m | \u001b[0m 0.4238  \u001b[0m | \u001b[0m 0.2747  \u001b[0m | \u001b[0m 7.729   \u001b[0m | \u001b[0m 499.9   \u001b[0m | \u001b[0m 0.00632 \u001b[0m | \u001b[0m 195.6   \u001b[0m | \u001b[0m 33.9    \u001b[0m | \u001b[0m 1.828   \u001b[0m | \u001b[0m 1.038   \u001b[0m | \u001b[0m 0.469   \u001b[0m |\n",
      "| \u001b[0m 23      \u001b[0m | \u001b[0m 0.9442  \u001b[0m | \u001b[0m 0.8035  \u001b[0m | \u001b[0m 0.4558  \u001b[0m | \u001b[0m 0.3189  \u001b[0m | \u001b[0m 21.21   \u001b[0m | \u001b[0m 176.2   \u001b[0m | \u001b[0m 0.006669\u001b[0m | \u001b[0m 81.48   \u001b[0m | \u001b[0m 288.8   \u001b[0m | \u001b[0m 1.179   \u001b[0m | \u001b[0m 1.43    \u001b[0m | \u001b[0m 0.4903  \u001b[0m |\n",
      "| \u001b[0m 24      \u001b[0m | \u001b[0m 0.9473  \u001b[0m | \u001b[0m 0.7421  \u001b[0m | \u001b[0m 0.43    \u001b[0m | \u001b[0m 0.4352  \u001b[0m | \u001b[0m 49.31   \u001b[0m | \u001b[0m 415.9   \u001b[0m | \u001b[0m 0.007245\u001b[0m | \u001b[0m 136.6   \u001b[0m | \u001b[0m 390.1   \u001b[0m | \u001b[0m 1.504   \u001b[0m | \u001b[0m 1.098   \u001b[0m | \u001b[0m 0.6155  \u001b[0m |\n",
      "| \u001b[0m 25      \u001b[0m | \u001b[0m 0.9497  \u001b[0m | \u001b[0m 0.788   \u001b[0m | \u001b[0m 0.5366  \u001b[0m | \u001b[0m 0.6327  \u001b[0m | \u001b[0m 48.61   \u001b[0m | \u001b[0m 295.3   \u001b[0m | \u001b[0m 0.008975\u001b[0m | \u001b[0m 193.9   \u001b[0m | \u001b[0m 496.6   \u001b[0m | \u001b[0m 1.877   \u001b[0m | \u001b[0m 1.181   \u001b[0m | \u001b[0m 0.4914  \u001b[0m |\n",
      "=============================================================================================================================================================\n"
     ]
    }
   ],
   "source": [
    "print('-' * 130)\n",
    "\n",
    "with warnings.catch_warnings():\n",
    "    warnings.filterwarnings('ignore')\n",
    "    LGB_BO.maximize(init_points=init_points, n_iter=n_iter, acq='ucb', xi=0.0, alpha=1e-6)"
   ]
  },
  {
   "cell_type": "code",
   "execution_count": 23,
   "metadata": {},
   "outputs": [
    {
     "data": {
      "text/plain": [
       "0.9512627555278169"
      ]
     },
     "execution_count": 23,
     "metadata": {},
     "output_type": "execute_result"
    }
   ],
   "source": [
    "LGB_BO.max['target']"
   ]
  },
  {
   "cell_type": "code",
   "execution_count": 24,
   "metadata": {},
   "outputs": [
    {
     "data": {
      "text/plain": [
       "{'bagging_fraction': 0.38556105567612287,\n",
       " 'colsample_bytree': 0.42002158959021396,\n",
       " 'feature_fraction': 0.6447037456245331,\n",
       " 'max_depth': 46.35144228764539,\n",
       " 'min_child_samples': 109.11536049498326,\n",
       " 'min_child_weight': 0.0094625996071842,\n",
       " 'min_data_in_leaf': 172.36974218753306,\n",
       " 'num_leaves': 495.51839992023577,\n",
       " 'reg_alpha': 1.201633564319697,\n",
       " 'reg_lambda': 1.524883249967171,\n",
       " 'subsample': 0.6489206303665163}"
      ]
     },
     "execution_count": 24,
     "metadata": {},
     "output_type": "execute_result"
    }
   ],
   "source": [
    "LGB_BO.max['params']"
   ]
  },
  {
   "cell_type": "code",
   "execution_count": 6,
   "metadata": {},
   "outputs": [],
   "source": [
    "param_lgb = {\n",
    "        'min_data_in_leaf': int(21.427642007695642), \n",
    "        'num_leaves': int(490.15525281823756), \n",
    "        #'learning_rate': LGB_BO.max['params']['learning_rate'],\n",
    "        'min_child_weight': 0.0031778570175284566,\n",
    "        'colsample_bytree' : 0.5579195650937059,\n",
    "        'bagging_fraction': 0.2548043210587658, \n",
    "        'min_child_samples': 299.06472700672117,\n",
    "        'subsample': 0.7539309525325935,\n",
    "        'reg_lambda': 1.143573447284028,\n",
    "        'reg_alpha': 1.6083331773049245,\n",
    "        'max_depth': 46, \n",
    "        'objective': 'binary',\n",
    "        'save_binary': True,\n",
    "        'seed': 1337,\n",
    "        'feature_fraction_seed': 1337,\n",
    "        'bagging_seed': 1337,\n",
    "        'drop_seed': 1337,\n",
    "        'data_random_seed': 1337,\n",
    "        'boosting_type': 'gbdt',\n",
    "        'verbose': 1,\n",
    "        'is_unbalance': False,\n",
    "        'boost_from_average': True,\n",
    "        'metric':'auc'\n",
    "    }"
   ]
  },
  {
   "cell_type": "code",
   "execution_count": 25,
   "metadata": {},
   "outputs": [],
   "source": [
    "param_lgb = {\n",
    "        'min_data_in_leaf': int(LGB_BO.max['params']['min_data_in_leaf']), \n",
    "        'num_leaves': int(LGB_BO.max['params']['num_leaves']), \n",
    "        #'learning_rate': LGB_BO.max['params']['learning_rate'],\n",
    "        'min_child_weight': LGB_BO.max['params']['min_child_weight'],\n",
    "        'colsample_bytree' : LGB_BO.max['params']['colsample_bytree'],\n",
    "        'bagging_fraction': LGB_BO.max['params']['bagging_fraction'], \n",
    "        'min_child_samples': LGB_BO.max['params']['min_child_samples'],\n",
    "        'subsample': LGB_BO.max['params']['subsample'],\n",
    "        'reg_lambda': LGB_BO.max['params']['reg_lambda'],\n",
    "        'reg_alpha': LGB_BO.max['params']['reg_alpha'],\n",
    "        'max_depth': int(LGB_BO.max['params']['max_depth']), \n",
    "        'objective': 'binary',\n",
    "        'save_binary': True,\n",
    "        'seed': 1337,\n",
    "        'feature_fraction_seed': 1337,\n",
    "        'bagging_seed': 1337,\n",
    "        'drop_seed': 1337,\n",
    "        'data_random_seed': 1337,\n",
    "        'boosting_type': 'gbdt',\n",
    "        'verbose': 1,\n",
    "        'is_unbalance': False,\n",
    "        'boost_from_average': True,\n",
    "        'metric':'auc'\n",
    "    }"
   ]
  },
  {
   "cell_type": "code",
   "execution_count": 26,
   "metadata": {},
   "outputs": [
    {
     "data": {
      "text/plain": [
       "(506691, 433)"
      ]
     },
     "execution_count": 26,
     "metadata": {},
     "output_type": "execute_result"
    }
   ],
   "source": [
    "test.shape, ta"
   ]
  },
  {
   "cell_type": "code",
   "execution_count": null,
   "metadata": {},
   "outputs": [
    {
     "name": "stdout",
     "output_type": "stream",
     "text": [
      "\n",
      "fold 1\n",
      "Training until validation scores don't improve for 100 rounds.\n",
      "[100]\ttraining's auc: 0.9951\tvalid_1's auc: 0.963442\n",
      "[200]\ttraining's auc: 0.999623\tvalid_1's auc: 0.969212\n",
      "[300]\ttraining's auc: 0.999972\tvalid_1's auc: 0.970079\n",
      "[400]\ttraining's auc: 0.999998\tvalid_1's auc: 0.970453\n",
      "Early stopping, best iteration is:\n",
      "[350]\ttraining's auc: 0.999991\tvalid_1's auc: 0.970489\n",
      "\n",
      "fold 2\n",
      "Training until validation scores don't improve for 100 rounds.\n",
      "[100]\ttraining's auc: 0.995123\tvalid_1's auc: 0.963486\n",
      "[200]\ttraining's auc: 0.999656\tvalid_1's auc: 0.968925\n",
      "[300]\ttraining's auc: 0.999977\tvalid_1's auc: 0.970235\n",
      "[400]\ttraining's auc: 0.999998\tvalid_1's auc: 0.970765\n",
      "[500]\ttraining's auc: 1\tvalid_1's auc: 0.970857\n",
      "Did not meet early stopping. Best iteration is:\n",
      "[500]\ttraining's auc: 1\tvalid_1's auc: 0.970857\n",
      "\n",
      "fold 3\n",
      "Training until validation scores don't improve for 100 rounds.\n",
      "[100]\ttraining's auc: 0.995087\tvalid_1's auc: 0.96317\n",
      "[200]\ttraining's auc: 0.999679\tvalid_1's auc: 0.969003\n",
      "[300]\ttraining's auc: 0.999977\tvalid_1's auc: 0.969986\n"
     ]
    }
   ],
   "source": [
    "plt.rcParams[\"axes.grid\"] = True\n",
    "\n",
    "nfold = 5\n",
    "skf = StratifiedKFold(n_splits=nfold, shuffle=True, random_state=42)\n",
    "\n",
    "oof = np.zeros(len(train))\n",
    "mean_fpr = np.linspace(0,1,100)\n",
    "cms= []\n",
    "tprs = []\n",
    "aucs = []\n",
    "y_real = []\n",
    "y_proba = []\n",
    "recalls = []\n",
    "roc_aucs = []\n",
    "f1_scores = []\n",
    "accuracies = []\n",
    "precisions = []\n",
    "predictions = np.zeros(len(test))\n",
    "feature_importance_df = pd.DataFrame()\n",
    "\n",
    "i = 1\n",
    "for train_idx, valid_idx in skf.split(train, train.isFraud.values):\n",
    "    print(\"\\nfold {}\".format(i))\n",
    "    trn_data = lgb.Dataset(train.iloc[train_idx][features].values,\n",
    "                                   label=train.iloc[train_idx][target].values\n",
    "                                   )\n",
    "    val_data = lgb.Dataset(train.iloc[valid_idx][features].values,\n",
    "                                   label=train.iloc[valid_idx][target].values\n",
    "                                   )   \n",
    "    \n",
    "    clf = lgb.train(param_lgb, trn_data, num_boost_round = 500, valid_sets = [trn_data, val_data], verbose_eval = 100, early_stopping_rounds = 100)\n",
    "    oof[valid_idx] = clf.predict(train.iloc[valid_idx][features].values) \n",
    "    \n",
    "    predictions += clf.predict(test[features]) / nfold\n",
    "    \n",
    "    # Scores \n",
    "    roc_aucs.append(roc_auc_score(train.iloc[valid_idx][target].values, oof[valid_idx]))\n",
    "    accuracies.append(accuracy_score(train.iloc[valid_idx][target].values, oof[valid_idx].round()))\n",
    "    recalls.append(recall_score(train.iloc[valid_idx][target].values, oof[valid_idx].round()))\n",
    "    precisions.append(precision_score(train.iloc[valid_idx][target].values ,oof[valid_idx].round()))\n",
    "    f1_scores.append(f1_score(train.iloc[valid_idx][target].values, oof[valid_idx].round()))\n",
    "    \n",
    "    # Roc curve by folds\n",
    "    f = plt.figure(1)\n",
    "    fpr, tpr, t = roc_curve(train.iloc[valid_idx][target].values, oof[valid_idx])\n",
    "    tprs.append(interp(mean_fpr, fpr, tpr))\n",
    "    roc_auc = auc(fpr, tpr)\n",
    "    aucs.append(roc_auc)\n",
    "    plt.plot(fpr, tpr, lw=2, alpha=0.3, label='ROC fold %d (AUC = %0.4f)' % (i,roc_auc))\n",
    "    \n",
    "    # Precion recall by folds\n",
    "    g = plt.figure(2)\n",
    "    precision, recall, _ = precision_recall_curve(train.iloc[valid_idx][target].values, oof[valid_idx])\n",
    "    y_real.append(train.iloc[valid_idx][target].values)\n",
    "    y_proba.append(oof[valid_idx])\n",
    "    plt.plot(recall, precision, lw=2, alpha=0.3, label='P|R fold %d' % (i))  \n",
    "    \n",
    "    i= i+1\n",
    "    \n",
    "    # Confusion matrix by folds\n",
    "    cms.append(confusion_matrix(train.iloc[valid_idx][target].values, oof[valid_idx].round()))\n",
    "    \n",
    "    # Features imp\n",
    "    fold_importance_df = pd.DataFrame()\n",
    "    fold_importance_df[\"Feature\"] = features\n",
    "    fold_importance_df[\"importance\"] = clf.feature_importance()\n",
    "    fold_importance_df[\"fold\"] = nfold + 1\n",
    "    feature_importance_df = pd.concat([feature_importance_df, fold_importance_df], axis=0)\n",
    "\n",
    "# Metrics\n",
    "print(\n",
    "        '\\nCV roc score        : {0:.4f}, std: {1:.4f}.'.format(np.mean(roc_aucs), np.std(roc_aucs)),\n",
    "        '\\nCV accuracy score   : {0:.4f}, std: {1:.4f}.'.format(np.mean(accuracies), np.std(accuracies)),\n",
    "        '\\nCV recall score     : {0:.4f}, std: {1:.4f}.'.format(np.mean(recalls), np.std(recalls)),\n",
    "        '\\nCV precision score  : {0:.4f}, std: {1:.4f}.'.format(np.mean(precisions), np.std(precisions)),\n",
    "        '\\nCV f1 score         : {0:.4f}, std: {1:.4f}.'.format(np.mean(f1_scores), np.std(f1_scores))\n",
    ")\n",
    "\n",
    "#ROC \n",
    "f = plt.figure(1)\n",
    "plt.plot([0,1],[0,1],linestyle = '--',lw = 2,color = 'grey')\n",
    "mean_tpr = np.mean(tprs, axis=0)\n",
    "mean_auc = auc(mean_fpr, mean_tpr)\n",
    "plt.plot(mean_fpr, mean_tpr, color='blue',\n",
    "         label=r'Mean ROC (AUC = %0.4f)' % (np.mean(roc_aucs)),lw=2, alpha=1)\n",
    "\n",
    "plt.xlabel('False Positive Rate')\n",
    "plt.ylabel('True Positive Rate')\n",
    "plt.title('LGB ROC curve by folds')\n",
    "plt.legend(loc=\"lower right\")\n",
    "\n",
    "# PR plt\n",
    "g = plt.figure(2)\n",
    "plt.plot([0,1],[1,0],linestyle = '--',lw = 2,color = 'grey')\n",
    "y_real = np.concatenate(y_real)\n",
    "y_proba = np.concatenate(y_proba)\n",
    "precision, recall, _ = precision_recall_curve(y_real, y_proba)\n",
    "plt.plot(recall, precision, color='blue',\n",
    "         label=r'Mean P|R')\n",
    "plt.xlabel('Recall')\n",
    "plt.ylabel('Precision')\n",
    "plt.title('P|R curve by folds')\n",
    "plt.legend(loc=\"lower left\")"
   ]
  },
  {
   "cell_type": "code",
   "execution_count": 29,
   "metadata": {},
   "outputs": [
    {
     "data": {
      "text/plain": [
       "array([0.00077443, 0.0013164 , 0.00138516, ..., 0.00072717, 0.00035343,\n",
       "       0.00068623])"
      ]
     },
     "execution_count": 29,
     "metadata": {},
     "output_type": "execute_result"
    }
   ],
   "source": [
    "predictions"
   ]
  },
  {
   "cell_type": "code",
   "execution_count": 30,
   "metadata": {},
   "outputs": [
    {
     "data": {
      "text/plain": [
       "506691"
      ]
     },
     "execution_count": 30,
     "metadata": {},
     "output_type": "execute_result"
    }
   ],
   "source": [
    "len(predictions)"
   ]
  },
  {
   "cell_type": "code",
   "execution_count": 101,
   "metadata": {},
   "outputs": [],
   "source": [
    "sample_submission = pd.read_csv(f'{folder_path}sample_submission.csv', index_col='TransactionID')"
   ]
  },
  {
   "cell_type": "code",
   "execution_count": 108,
   "metadata": {},
   "outputs": [
    {
     "data": {
      "text/html": [
       "<div>\n",
       "<style scoped>\n",
       "    .dataframe tbody tr th:only-of-type {\n",
       "        vertical-align: middle;\n",
       "    }\n",
       "\n",
       "    .dataframe tbody tr th {\n",
       "        vertical-align: top;\n",
       "    }\n",
       "\n",
       "    .dataframe thead th {\n",
       "        text-align: right;\n",
       "    }\n",
       "</style>\n",
       "<table border=\"1\" class=\"dataframe\">\n",
       "  <thead>\n",
       "    <tr style=\"text-align: right;\">\n",
       "      <th></th>\n",
       "      <th>TransactionID</th>\n",
       "      <th>isFraud</th>\n",
       "      <th>TransactionDT</th>\n",
       "      <th>TransactionAmt</th>\n",
       "      <th>ProductCD</th>\n",
       "      <th>card1</th>\n",
       "      <th>card2</th>\n",
       "      <th>card3</th>\n",
       "      <th>card4</th>\n",
       "      <th>card5</th>\n",
       "      <th>...</th>\n",
       "      <th>id_31</th>\n",
       "      <th>id_32</th>\n",
       "      <th>id_33</th>\n",
       "      <th>id_34</th>\n",
       "      <th>id_35</th>\n",
       "      <th>id_36</th>\n",
       "      <th>id_37</th>\n",
       "      <th>id_38</th>\n",
       "      <th>DeviceType</th>\n",
       "      <th>DeviceInfo</th>\n",
       "    </tr>\n",
       "  </thead>\n",
       "  <tbody>\n",
       "    <tr>\n",
       "      <th>0</th>\n",
       "      <td>2987000</td>\n",
       "      <td>0</td>\n",
       "      <td>86400</td>\n",
       "      <td>68.5</td>\n",
       "      <td>-0.554564</td>\n",
       "      <td>13926</td>\n",
       "      <td>NaN</td>\n",
       "      <td>-0.353155</td>\n",
       "      <td>discover</td>\n",
       "      <td>142.0</td>\n",
       "      <td>...</td>\n",
       "      <td>-0.520989</td>\n",
       "      <td>-0.043373</td>\n",
       "      <td>-0.046728</td>\n",
       "      <td>NaN</td>\n",
       "      <td>-0.524896</td>\n",
       "      <td>-0.524896</td>\n",
       "      <td>-0.524896</td>\n",
       "      <td>-0.524896</td>\n",
       "      <td>-0.524104</td>\n",
       "      <td>-0.324192</td>\n",
       "    </tr>\n",
       "    <tr>\n",
       "      <th>1</th>\n",
       "      <td>2987001</td>\n",
       "      <td>0</td>\n",
       "      <td>86401</td>\n",
       "      <td>29.0</td>\n",
       "      <td>-0.554564</td>\n",
       "      <td>2755</td>\n",
       "      <td>404.0</td>\n",
       "      <td>-0.353155</td>\n",
       "      <td>mastercard</td>\n",
       "      <td>102.0</td>\n",
       "      <td>...</td>\n",
       "      <td>-0.520989</td>\n",
       "      <td>-0.043373</td>\n",
       "      <td>-0.046728</td>\n",
       "      <td>NaN</td>\n",
       "      <td>-0.524896</td>\n",
       "      <td>-0.524896</td>\n",
       "      <td>-0.524896</td>\n",
       "      <td>-0.524896</td>\n",
       "      <td>-0.524104</td>\n",
       "      <td>-0.324192</td>\n",
       "    </tr>\n",
       "    <tr>\n",
       "      <th>2</th>\n",
       "      <td>2987002</td>\n",
       "      <td>0</td>\n",
       "      <td>86469</td>\n",
       "      <td>59.0</td>\n",
       "      <td>-0.554564</td>\n",
       "      <td>4663</td>\n",
       "      <td>490.0</td>\n",
       "      <td>-0.353155</td>\n",
       "      <td>visa</td>\n",
       "      <td>166.0</td>\n",
       "      <td>...</td>\n",
       "      <td>-0.520989</td>\n",
       "      <td>-0.043373</td>\n",
       "      <td>-0.046728</td>\n",
       "      <td>NaN</td>\n",
       "      <td>-0.524896</td>\n",
       "      <td>-0.524896</td>\n",
       "      <td>-0.524896</td>\n",
       "      <td>-0.524896</td>\n",
       "      <td>-0.524104</td>\n",
       "      <td>-0.324192</td>\n",
       "    </tr>\n",
       "    <tr>\n",
       "      <th>3</th>\n",
       "      <td>2987003</td>\n",
       "      <td>0</td>\n",
       "      <td>86499</td>\n",
       "      <td>50.0</td>\n",
       "      <td>-0.554564</td>\n",
       "      <td>18132</td>\n",
       "      <td>567.0</td>\n",
       "      <td>-0.353155</td>\n",
       "      <td>mastercard</td>\n",
       "      <td>117.0</td>\n",
       "      <td>...</td>\n",
       "      <td>-0.520989</td>\n",
       "      <td>-0.043373</td>\n",
       "      <td>-0.046728</td>\n",
       "      <td>NaN</td>\n",
       "      <td>-0.524896</td>\n",
       "      <td>-0.524896</td>\n",
       "      <td>-0.524896</td>\n",
       "      <td>-0.524896</td>\n",
       "      <td>-0.524104</td>\n",
       "      <td>-0.324192</td>\n",
       "    </tr>\n",
       "    <tr>\n",
       "      <th>4</th>\n",
       "      <td>2987004</td>\n",
       "      <td>0</td>\n",
       "      <td>86506</td>\n",
       "      <td>50.0</td>\n",
       "      <td>0.322297</td>\n",
       "      <td>4497</td>\n",
       "      <td>514.0</td>\n",
       "      <td>-0.353155</td>\n",
       "      <td>mastercard</td>\n",
       "      <td>102.0</td>\n",
       "      <td>...</td>\n",
       "      <td>0.740908</td>\n",
       "      <td>0.678983</td>\n",
       "      <td>0.440205</td>\n",
       "      <td>match_status:2</td>\n",
       "      <td>0.254637</td>\n",
       "      <td>0.900070</td>\n",
       "      <td>0.918904</td>\n",
       "      <td>0.557373</td>\n",
       "      <td>1.138187</td>\n",
       "      <td>-2.29605</td>\n",
       "    </tr>\n",
       "  </tbody>\n",
       "</table>\n",
       "<p>5 rows × 434 columns</p>\n",
       "</div>"
      ],
      "text/plain": [
       "   TransactionID  isFraud  TransactionDT  TransactionAmt  ProductCD  card1  \\\n",
       "0        2987000        0          86400            68.5  -0.554564  13926   \n",
       "1        2987001        0          86401            29.0  -0.554564   2755   \n",
       "2        2987002        0          86469            59.0  -0.554564   4663   \n",
       "3        2987003        0          86499            50.0  -0.554564  18132   \n",
       "4        2987004        0          86506            50.0   0.322297   4497   \n",
       "\n",
       "   card2     card3       card4  card5  ...     id_31     id_32     id_33  \\\n",
       "0    NaN -0.353155    discover  142.0  ... -0.520989 -0.043373 -0.046728   \n",
       "1  404.0 -0.353155  mastercard  102.0  ... -0.520989 -0.043373 -0.046728   \n",
       "2  490.0 -0.353155        visa  166.0  ... -0.520989 -0.043373 -0.046728   \n",
       "3  567.0 -0.353155  mastercard  117.0  ... -0.520989 -0.043373 -0.046728   \n",
       "4  514.0 -0.353155  mastercard  102.0  ...  0.740908  0.678983  0.440205   \n",
       "\n",
       "            id_34     id_35     id_36     id_37     id_38  DeviceType  \\\n",
       "0             NaN -0.524896 -0.524896 -0.524896 -0.524896   -0.524104   \n",
       "1             NaN -0.524896 -0.524896 -0.524896 -0.524896   -0.524104   \n",
       "2             NaN -0.524896 -0.524896 -0.524896 -0.524896   -0.524104   \n",
       "3             NaN -0.524896 -0.524896 -0.524896 -0.524896   -0.524104   \n",
       "4  match_status:2  0.254637  0.900070  0.918904  0.557373    1.138187   \n",
       "\n",
       "   DeviceInfo  \n",
       "0   -0.324192  \n",
       "1   -0.324192  \n",
       "2   -0.324192  \n",
       "3   -0.324192  \n",
       "4    -2.29605  \n",
       "\n",
       "[5 rows x 434 columns]"
      ]
     },
     "execution_count": 108,
     "metadata": {},
     "output_type": "execute_result"
    }
   ],
   "source": [
    "test2.head()"
   ]
  },
  {
   "cell_type": "code",
   "execution_count": 31,
   "metadata": {},
   "outputs": [],
   "source": [
    "sample_submission = pd.read_csv(f'{folder_path}sample_submission.csv', index_col='TransactionID')\n",
    "sample_submission['isFraud'] = predictions\n",
    "sample_submission.to_csv('xbg_bayes_opt_woe.csv')"
   ]
  },
  {
   "cell_type": "code",
   "execution_count": null,
   "metadata": {},
   "outputs": [],
   "source": []
  }
 ],
 "metadata": {
  "kernelspec": {
   "display_name": "Python 3",
   "language": "python",
   "name": "python3"
  },
  "language_info": {
   "codemirror_mode": {
    "name": "ipython",
    "version": 3
   },
   "file_extension": ".py",
   "mimetype": "text/x-python",
   "name": "python",
   "nbconvert_exporter": "python",
   "pygments_lexer": "ipython3",
   "version": "3.7.3"
  }
 },
 "nbformat": 4,
 "nbformat_minor": 4
}
